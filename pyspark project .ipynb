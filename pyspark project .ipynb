{
 "cells": [
  {
   "cell_type": "code",
   "execution_count": 1,
   "metadata": {},
   "outputs": [
    {
     "name": "stdout",
     "output_type": "stream",
     "text": [
      "Requirement already satisfied: pandas in c:\\users\\leowa\\appdata\\local\\packages\\pythonsoftwarefoundation.python.3.11_qbz5n2kfra8p0\\localcache\\local-packages\\python311\\site-packages (2.2.3)\n",
      "Requirement already satisfied: numpy>=1.23.2 in c:\\users\\leowa\\appdata\\local\\packages\\pythonsoftwarefoundation.python.3.11_qbz5n2kfra8p0\\localcache\\local-packages\\python311\\site-packages (from pandas) (1.26.2)\n",
      "Requirement already satisfied: python-dateutil>=2.8.2 in c:\\users\\leowa\\appdata\\local\\packages\\pythonsoftwarefoundation.python.3.11_qbz5n2kfra8p0\\localcache\\local-packages\\python311\\site-packages (from pandas) (2.8.2)\n",
      "Requirement already satisfied: pytz>=2020.1 in c:\\users\\leowa\\appdata\\local\\packages\\pythonsoftwarefoundation.python.3.11_qbz5n2kfra8p0\\localcache\\local-packages\\python311\\site-packages (from pandas) (2024.2)\n",
      "Requirement already satisfied: tzdata>=2022.7 in c:\\users\\leowa\\appdata\\local\\packages\\pythonsoftwarefoundation.python.3.11_qbz5n2kfra8p0\\localcache\\local-packages\\python311\\site-packages (from pandas) (2024.2)\n",
      "Requirement already satisfied: six>=1.5 in c:\\users\\leowa\\appdata\\local\\packages\\pythonsoftwarefoundation.python.3.11_qbz5n2kfra8p0\\localcache\\local-packages\\python311\\site-packages (from python-dateutil>=2.8.2->pandas) (1.16.0)\n",
      "Note: you may need to restart the kernel to use updated packages.\n"
     ]
    },
    {
     "name": "stderr",
     "output_type": "stream",
     "text": [
      "\n",
      "[notice] A new release of pip is available: 24.2 -> 24.3.1\n",
      "[notice] To update, run: C:\\Users\\leowa\\AppData\\Local\\Microsoft\\WindowsApps\\PythonSoftwareFoundation.Python.3.11_qbz5n2kfra8p0\\python.exe -m pip install --upgrade pip\n"
     ]
    }
   ],
   "source": [
    "pip install pandas"
   ]
  },
  {
   "cell_type": "code",
   "execution_count": 2,
   "metadata": {},
   "outputs": [
    {
     "name": "stdout",
     "output_type": "stream",
     "text": [
      "Requirement already satisfied: pyspark in c:\\users\\leowa\\appdata\\local\\packages\\pythonsoftwarefoundation.python.3.11_qbz5n2kfra8p0\\localcache\\local-packages\\python311\\site-packages (3.5.3)\n",
      "Requirement already satisfied: py4j==0.10.9.7 in c:\\users\\leowa\\appdata\\local\\packages\\pythonsoftwarefoundation.python.3.11_qbz5n2kfra8p0\\localcache\\local-packages\\python311\\site-packages (from pyspark) (0.10.9.7)\n",
      "Note: you may need to restart the kernel to use updated packages.\n"
     ]
    },
    {
     "name": "stderr",
     "output_type": "stream",
     "text": [
      "\n",
      "[notice] A new release of pip is available: 24.2 -> 24.3.1\n",
      "[notice] To update, run: C:\\Users\\leowa\\AppData\\Local\\Microsoft\\WindowsApps\\PythonSoftwareFoundation.Python.3.11_qbz5n2kfra8p0\\python.exe -m pip install --upgrade pip\n"
     ]
    }
   ],
   "source": [
    "pip install pyspark"
   ]
  },
  {
   "cell_type": "code",
   "execution_count": 3,
   "metadata": {},
   "outputs": [],
   "source": [
    "import pandas\n",
    "import pyspark\n",
    "import numpy\n",
    "from pyspark.sql import SparkSession"
   ]
  },
  {
   "cell_type": "code",
   "execution_count": 4,
   "metadata": {},
   "outputs": [],
   "source": [
    "spark=SparkSession.builder.appName('pyspark practice').getOrCreate()"
   ]
  },
  {
   "cell_type": "code",
   "execution_count": 11,
   "metadata": {},
   "outputs": [],
   "source": [
    "df_1 = spark.read.csv(\"C:/mvi/New folder (4)/medical_aid_claims (2).csv\",header =True)"
   ]
  },
  {
   "cell_type": "code",
   "execution_count": 12,
   "metadata": {},
   "outputs": [
    {
     "name": "stdout",
     "output_type": "stream",
     "text": [
      "+--------+--------------------+------+---------+-----------+------------+------------+--------------+-----------+---+--------------------+-----------+-----------------+----------------+--------------------+-----+----+----+----+\n",
      "|    name|               email|gender| location|   employer|relationship|patient_name|patient_suffix|patient_dob|Age|               cause|Fee Charged|membership_period|number_of_claims|number_of_dependants|label|_c16|_c17|_c18|\n",
      "+--------+--------------------+------+---------+-----------+------------+------------+--------------+-----------+---+--------------------+-----------+-----------------+----------------+--------------------+-----+----+----+----+\n",
      "|   Chipi|  ajimmison0@sun.com|female|   Kwekwe|       Vipe| Grandfather|     Mabhena|           789|       1995| 28|               Other|       3798|             1541|               2|                   4|    0|NULL|NULL|NULL|\n",
      "|   Femba|rsoonhouse1@googl...|female|Marondera|       Mudo|     Husband|     Sithole|           860|       1992| 31|               Other|      48905|             8269|               4|                   3|    0|NULL|NULL|NULL|\n",
      "|    Geta|bchecchetelli2@ho...|female|   Rusape|     Skaboo|      Mother|       Chipi|           374|       1999| 24|Road Traffic Acci...|      39963|             6223|               2|                   2|    0|NULL|NULL|NULL|\n",
      "|Tichaona|    mgarman3@psu.edu|female|   Rusape|  Babbleset|      Father|      Jembwa|           729|       1978| 45|Road Traffic Acci...|      34948|             8832|               6|                   3|    0|NULL|NULL|NULL|\n",
      "|   Chisa|ccough4@biglobe.n...|female| Bulawayo|   Flipopia|      Father|        Foto|           716|       1992| 31|    Accident At Work|      46984|             8804|               1|                   2|    1|NULL|NULL|NULL|\n",
      "|   Gweta| mhylden5@sfgate.com|female|   Kwekwe| Brainverse|    Daughter|       Evans|           160|       1974| 49|               Other|      37298|             2445|               2|                   4|    0|NULL|NULL|NULL|\n",
      "|   Konde|    mlent6@patch.com|  male|   Rusape|   Photobug|      Nepfew|       Chiri|           626|       2001| 22|Road Traffic Acci...|      33981|             3715|               4|                   1|    0|NULL|NULL|NULL|\n",
      "|   Gweta| mpicford7@apple.com|  male|   Nyanga|     Avamba|     Brother| Chisa Chisi|           318|       1973| 50|               Other|       5071|              541|               1|                   3|    0|NULL|NULL|NULL|\n",
      "| Sibanda|   thappert8@psu.edu|  male|   Harare|   Feedspan|       Niece|        Geta|           715|       2002| 21|               Other|      22943|             8690|               5|                   2|    1|NULL|NULL|NULL|\n",
      "|   Evans|erainbow9@pintere...|  male| Masvingo|   Fiveclub|      Mother|     Sithole|           887|       1984| 39|    Accident At Work|      27104|             6680|               2|                   3|    0|NULL|NULL|NULL|\n",
      "|   Konde|  fcasonea@house.gov|  male| Bulawayo|   Fanoodle|     Brother|       Mirwa|           254|       1965| 58|    Accident At Work|      21842|              460|               1|                   3|    0|NULL|NULL|NULL|\n",
      "|Tichaona|cwaddilowb@livein...|female|    Gweru|  Bubblebox|        Wife|       Konde|           446|       1990| 33|    Accident At Work|      10399|              561|               2|                   4|    0|NULL|NULL|NULL|\n",
      "| Mabhena|tmarnanec@pcworld...|  male|   Nyanga|Twitterbeat|      Sister|      Jembwa|           907|       1976| 47|Road Traffic Acci...|      18217|             7474|               1|                   3|    0|NULL|NULL|NULL|\n",
      "|Peterson|mogglebied@consta...|female|   Mutare|    Demimbu|       Niece|       Evans|           629|       2002| 21|    Accident At Work|      41518|             5011|               2|                   1|    0|NULL|NULL|NULL|\n",
      "|   Konde|hmerrissone@natio...|  male|   Gwanda|    Dynazzy|      Sister|      Jembwa|           812|       1972| 51|               Other|      39613|             1110|               1|                   3|    1|NULL|NULL|NULL|\n",
      "| Sithole|rreemanf@timesonl...|female|Marondera|Twitterwire|       Uncle|    Peterson|           820|       1983| 40|    Accident At Work|      30405|             7535|               1|                   2|    0|NULL|NULL|NULL|\n",
      "| Mabhena| agrinstedg@jugem.jp|  male|Marondera|   Buzzbean| Grandmother|        Foto|           137|       1990| 33|    Accident At Work|      42734|             6955|               1|                   2|    0|NULL|NULL|NULL|\n",
      "| Mabhena|lcollingwoodh@par...|female|   Gwanda|       Eayo|      Father|       Evans|           667|       1985| 38|    Accident At Work|       9110|             5165|               3|                   4|    0|NULL|NULL|NULL|\n",
      "|    Foto|     hmorsei@icio.us|  male|    Gweru|      Quimm|        Wife|       Chipi|           449|       2002| 21|               Other|       6862|             3669|               1|                   4|    0|NULL|NULL|NULL|\n",
      "| Sithole|   msoanj@seesaa.net|  male|Marondera|     Avavee| Grandfather|       Nyoni|           442|       1995| 28|               Other|      18713|              813|               2|                   1|    0|NULL|NULL|NULL|\n",
      "+--------+--------------------+------+---------+-----------+------------+------------+--------------+-----------+---+--------------------+-----------+-----------------+----------------+--------------------+-----+----+----+----+\n",
      "only showing top 20 rows\n",
      "\n"
     ]
    },
    {
     "data": {
      "text/plain": [
       "(7000, None)"
      ]
     },
     "execution_count": 12,
     "metadata": {},
     "output_type": "execute_result"
    }
   ],
   "source": [
    "df_1.count(),df_1.show()"
   ]
  },
  {
   "cell_type": "code",
   "execution_count": 14,
   "metadata": {},
   "outputs": [],
   "source": [
    "df_2 = spark.read.csv(\"C:/mvi/New folder (4)/best_rows.xls\",header=True)"
   ]
  },
  {
   "cell_type": "code",
   "execution_count": 23,
   "metadata": {},
   "outputs": [
    {
     "name": "stdout",
     "output_type": "stream",
     "text": [
      "+--------+--------------------+------+---------+-----------+------------+------------+--------------+-----------+---+--------------------+-----------+-----------------+----------------+--------------------+-----+\n",
      "|    name|               email|gender| location|   employer|relationship|patient_name|patient_suffix|patient_dob|Age|               cause|Fee Charged|membership_period|number_of_claims|number_of_dependants|label|\n",
      "+--------+--------------------+------+---------+-----------+------------+------------+--------------+-----------+---+--------------------+-----------+-----------------+----------------+--------------------+-----+\n",
      "|   Chipi|  ajimmison0@sun.com|female|   Kwekwe|       Vipe| Grandfather|     Mabhena|           789|       1995| 28|               Other|       3798|             1541|               2|                   4|    0|\n",
      "|   Femba|rsoonhouse1@googl...|female|Marondera|       Mudo|     Husband|     Sithole|           860|       1992| 31|               Other|      48905|             8269|               4|                   3|    0|\n",
      "|    Geta|bchecchetelli2@ho...|female|   Rusape|     Skaboo|      Mother|       Chipi|           374|       1999| 24|Road Traffic Acci...|      39963|             6223|               2|                   2|    0|\n",
      "|Tichaona|    mgarman3@psu.edu|female|   Rusape|  Babbleset|      Father|      Jembwa|           729|       1978| 45|Road Traffic Acci...|      34948|             8832|               6|                   3|    0|\n",
      "|   Chisa|ccough4@biglobe.n...|female| Bulawayo|   Flipopia|      Father|        Foto|           716|       1992| 31|    Accident At Work|      46984|             8804|               1|                   2|    1|\n",
      "|   Gweta| mhylden5@sfgate.com|female|   Kwekwe| Brainverse|    Daughter|       Evans|           160|       1974| 49|               Other|      37298|             2445|               2|                   4|    0|\n",
      "|   Konde|    mlent6@patch.com|  male|   Rusape|   Photobug|      Nepfew|       Chiri|           626|       2001| 22|Road Traffic Acci...|      33981|             3715|               4|                   1|    0|\n",
      "|   Gweta| mpicford7@apple.com|  male|   Nyanga|     Avamba|     Brother| Chisa Chisi|           318|       1973| 50|               Other|       5071|              541|               1|                   3|    0|\n",
      "| Sibanda|   thappert8@psu.edu|  male|   Harare|   Feedspan|       Niece|        Geta|           715|       2002| 21|               Other|      22943|             8690|               5|                   2|    1|\n",
      "|   Evans|erainbow9@pintere...|  male| Masvingo|   Fiveclub|      Mother|     Sithole|           887|       1984| 39|    Accident At Work|      27104|             6680|               2|                   3|    0|\n",
      "|   Konde|  fcasonea@house.gov|  male| Bulawayo|   Fanoodle|     Brother|       Mirwa|           254|       1965| 58|    Accident At Work|      21842|              460|               1|                   3|    0|\n",
      "|Tichaona|cwaddilowb@livein...|female|    Gweru|  Bubblebox|        Wife|       Konde|           446|       1990| 33|    Accident At Work|      10399|              561|               2|                   4|    0|\n",
      "| Mabhena|tmarnanec@pcworld...|  male|   Nyanga|Twitterbeat|      Sister|      Jembwa|           907|       1976| 47|Road Traffic Acci...|      18217|             7474|               1|                   3|    0|\n",
      "|Peterson|mogglebied@consta...|female|   Mutare|    Demimbu|       Niece|       Evans|           629|       2002| 21|    Accident At Work|      41518|             5011|               2|                   1|    0|\n",
      "|   Konde|hmerrissone@natio...|  male|   Gwanda|    Dynazzy|      Sister|      Jembwa|           812|       1972| 51|               Other|      39613|             1110|               1|                   3|    1|\n",
      "| Sithole|rreemanf@timesonl...|female|Marondera|Twitterwire|       Uncle|    Peterson|           820|       1983| 40|    Accident At Work|      30405|             7535|               1|                   2|    0|\n",
      "| Mabhena| agrinstedg@jugem.jp|  male|Marondera|   Buzzbean| Grandmother|        Foto|           137|       1990| 33|    Accident At Work|      42734|             6955|               1|                   2|    0|\n",
      "| Mabhena|lcollingwoodh@par...|female|   Gwanda|       Eayo|      Father|       Evans|           667|       1985| 38|    Accident At Work|       9110|             5165|               3|                   4|    0|\n",
      "|    Foto|     hmorsei@icio.us|  male|    Gweru|      Quimm|        Wife|       Chipi|           449|       2002| 21|               Other|       6862|             3669|               1|                   4|    0|\n",
      "| Sithole|   msoanj@seesaa.net|  male|Marondera|     Avavee| Grandfather|       Nyoni|           442|       1995| 28|               Other|      18713|              813|               2|                   1|    0|\n",
      "+--------+--------------------+------+---------+-----------+------------+------------+--------------+-----------+---+--------------------+-----------+-----------------+----------------+--------------------+-----+\n",
      "only showing top 20 rows\n",
      "\n"
     ]
    },
    {
     "data": {
      "text/plain": [
       "(500, None)"
      ]
     },
     "execution_count": 23,
     "metadata": {},
     "output_type": "execute_result"
    }
   ],
   "source": [
    "df_2.count(),df_2.show()"
   ]
  },
  {
   "cell_type": "markdown",
   "metadata": {},
   "source": [
    "DROP THE COLUMNS"
   ]
  },
  {
   "cell_type": "code",
   "execution_count": 20,
   "metadata": {},
   "outputs": [],
   "source": [
    "df_1 = df_1.drop('_c16')\n",
    "df_1 = df_1.drop('_c17')\n",
    "df_1 = df_1.drop('_c18')"
   ]
  },
  {
   "cell_type": "code",
   "execution_count": 25,
   "metadata": {},
   "outputs": [
    {
     "data": {
      "text/plain": [
       "(7000,\n",
       " ['name',\n",
       "  'email',\n",
       "  'gender',\n",
       "  'location',\n",
       "  'employer',\n",
       "  'relationship',\n",
       "  'patient_name',\n",
       "  'patient_suffix',\n",
       "  'patient_dob',\n",
       "  'Age',\n",
       "  'cause',\n",
       "  'Fee Charged',\n",
       "  'membership_period',\n",
       "  'number_of_claims',\n",
       "  'number_of_dependants',\n",
       "  'label'],\n",
       " 500,\n",
       " ['name',\n",
       "  'email',\n",
       "  'gender',\n",
       "  'location',\n",
       "  'employer',\n",
       "  'relationship',\n",
       "  'patient_name',\n",
       "  'patient_suffix',\n",
       "  'patient_dob',\n",
       "  'Age',\n",
       "  'cause',\n",
       "  'Fee Charged',\n",
       "  'membership_period',\n",
       "  'number_of_claims',\n",
       "  'number_of_dependants',\n",
       "  'label'])"
      ]
     },
     "execution_count": 25,
     "metadata": {},
     "output_type": "execute_result"
    }
   ],
   "source": [
    "df_1.count(),df_1.columns,df_2.count(),df_2.columns"
   ]
  },
  {
   "cell_type": "markdown",
   "metadata": {},
   "source": [
    "ADD ADDITIONAL COLUMNS"
   ]
  },
  {
   "cell_type": "markdown",
   "metadata": {},
   "source": [
    "from pyspark.sql.functions import lit\n",
    "\n",
    "df_2= df_2.withColumn(\"_c16\",lit(\"null\"))\n",
    "\n",
    "df_2= df_2.withColumn(\"_c17\",lit(\"null\"))\n",
    "\n",
    "df_2= df_2.withColumn(\"_c18\",lit(\"null\"))"
   ]
  },
  {
   "cell_type": "markdown",
   "metadata": {},
   "source": [
    "MERGE TWO DATA FRAMES"
   ]
  },
  {
   "cell_type": "code",
   "execution_count": 26,
   "metadata": {},
   "outputs": [],
   "source": [
    "df=df_1.union(df_2)"
   ]
  },
  {
   "cell_type": "code",
   "execution_count": 27,
   "metadata": {},
   "outputs": [
    {
     "data": {
      "text/plain": [
       "7500"
      ]
     },
     "execution_count": 27,
     "metadata": {},
     "output_type": "execute_result"
    }
   ],
   "source": [
    "df.count()"
   ]
  },
  {
   "cell_type": "code",
   "execution_count": 28,
   "metadata": {},
   "outputs": [],
   "source": [
    "# Create a temporary view for SQL queries\n",
    "df.createOrReplaceTempView(\"df_sql\")"
   ]
  },
  {
   "cell_type": "code",
   "execution_count": 29,
   "metadata": {},
   "outputs": [
    {
     "name": "stdout",
     "output_type": "stream",
     "text": [
      "+-----+--------------------+------+---------+-------------+------------+------------+--------------+-----------+---+--------------------+-----------+-----------------+----------------+--------------------+-----+\n",
      "| name|               email|gender| location|     employer|relationship|patient_name|patient_suffix|patient_dob|Age|               cause|Fee Charged|membership_period|number_of_claims|number_of_dependants|label|\n",
      "+-----+--------------------+------+---------+-------------+------------+------------+--------------+-----------+---+--------------------+-----------+-----------------+----------------+--------------------+-----+\n",
      "|Chipi|  ajimmison0@sun.com|female|   Kwekwe|         Vipe| Grandfather|     Mabhena|           789|       1995| 28|               Other|       3798|             1541|               2|                   4|    0|\n",
      "|Chipi|ebarajaz1c@godadd...|  male|   Harare|        Mycat|     Brother| Chisa Chisi|           226|       1974| 49|    Accident At Home|      14128|             6557|               3|                   4|    0|\n",
      "|Chipi|kdossettor1f@syma...|  male|   Kwekwe|  Thoughtblab|        Aunt|     Sithole|           915|       2007| 16|               Other|      25156|             8624|               3|                   3|    1|\n",
      "|Chipi|vgoodhew23@nature...|female|Marondera|      Kwilith|     Brother|        Gute|           229|       1997| 26|    Accident At Work|      33592|             6023|               5|                   1|    0|\n",
      "|Chipi|kteare3e@craigsli...|  male|   Kadoma|     Bluezoom|      Father|       Dihwa|           251|       1993| 30|    Accident At Work|      31391|             2065|               6|                   2|    0|\n",
      "|Chipi|gayscough3j@freew...|  male|   Gwanda|        Skiba| Grandmother|     Sibanda|           915|       1990| 33|Road Traffic Acci...|      40073|             4498|               4|                   3|    0|\n",
      "|Chipi|           reg.co.uk|female|    Gweru|  Twitterbeat|      Nepfew|     Sibanda|           951|       1973| 50|Road Traffic Acci...|      21258|             4646|               4|                   3|    0|\n",
      "|Chipi|jgringley5g@busin...|  male|   Nyanga|     Flashset|    Daughter|        Geta|           979|       1969| 54|    Accident At Home|      12550|             4841|               4|                   2|    1|\n",
      "|Chipi| melcock7l@cam.ac.uk|  male| Bulawayo|     Wordware|        Aunt|        Geta|           704|       1990| 33|    Accident At Home|      34703|             8884|               6|                   1|    0|\n",
      "|Chipi|ptelford7n@taobao...|  male|   Mutare|Chatterbridge|       Uncle|       Gweta|           216|       2003| 20|               Other|      16866|             7307|               4|                   3|    1|\n",
      "|Chipi|bpatient7q@globo.com|female|   Kadoma|        Twiyo|     Brother|       Mirwa|           673|       1986| 37|Road Traffic Acci...|      10430|              230|               2|                   4|    0|\n",
      "|Chipi|mmanger7x@jiathis...|female|  Bindura|Thoughtbridge|      Father|     Sithole|           506|       2003| 20|    Accident At Work|      21709|             8692|               6|                   4|    0|\n",
      "|Chipi|   dskipping8i@de.vu|female| Masvingo|        Eadel| Grandmother|       Chisa|           327|       1994| 29|    Accident At Work|      39815|             7464|               3|                   3|    1|\n",
      "|Chipi|ehaglington8x@goo...|female|   Kwekwe|       Quamba|    Daughter|    Peterson|           950|       1973| 50|    Accident At Home|      14426|             1651|               4|                   3|    0|\n",
      "|Chipi|wtilliards9h@raku...|female|   Rusape|        Rooxo|        Wife|        Foto|           199|       1991| 32|    Accident At Work|      39548|             7657|               1|                   2|    0|\n",
      "|Chipi|    astuttbs@hud.gov|female|  Bindura|       Avavee|     Husband|       Konde|           570|       1970| 53|    Accident At Home|      38135|             4301|               1|                   2|    0|\n",
      "|Chipi|egateshillbw@squi...|  male|   Harare|         Yotz|      Father|       Femba|           350|       1990| 33|    Accident At Work|      16887|             5083|               1|                   2|    1|\n",
      "|Chipi|hmccorkindaled4@s...|female| Masvingo|         Vitz|        Aunt|       Konde|           980|       1986| 37|    Accident At Home|      31180|             3993|               2|                   1|    0|\n",
      "|Chipi|acurtisse7@rakute...|  male|   Nyanga|    Topicblab|     Brother|       Konde|           358|       1976| 47|               Other|      26221|             4431|               6|                   2|    0|\n",
      "|Chipi|astillmannfk@them...|  male|   Harare|     Riffwire|        Aunt|       Evans|           479|       1967| 56|    Accident At Work|      12359|             5623|               4|                   2|    0|\n",
      "+-----+--------------------+------+---------+-------------+------------+------------+--------------+-----------+---+--------------------+-----------+-----------------+----------------+--------------------+-----+\n",
      "only showing top 20 rows\n",
      "\n"
     ]
    }
   ],
   "source": [
    "result = spark.sql (\"select * from df_sql where name ='Chipi' \")\n",
    "result.show()"
   ]
  },
  {
   "cell_type": "markdown",
   "metadata": {},
   "source": [
    "ADD NULL VALUES DATAFRAME"
   ]
  },
  {
   "cell_type": "code",
   "execution_count": 35,
   "metadata": {},
   "outputs": [],
   "source": [
    "df_null = spark.read.csv(\"C:/mvi/New folder (4)/medical_insurance_nullvalues(null shell).csv\",header=True)"
   ]
  },
  {
   "cell_type": "code",
   "execution_count": 36,
   "metadata": {},
   "outputs": [
    {
     "name": "stdout",
     "output_type": "stream",
     "text": [
      "+-----------------+-----+--------------+--------------------+-----------+---------+----+-----------+------------+--------+------+--------------------+----------------+-----------+----+\n",
      "|membership_period|label|patient_suffix|number_of_dependants|patient_dob| location| Age|Fee Charged|patient_name|    name|gender|               cause|number_of_claims|   employer|c_16|\n",
      "+-----------------+-----+--------------+--------------------+-----------+---------+----+-----------+------------+--------+------+--------------------+----------------+-----------+----+\n",
      "|             1541|    0|           789|                   4|       1995|   Kwekwe|NULL|       3798|        NULL|   Chipi|female|               Other|               2|       Vipe|null|\n",
      "|             8269|    0|           860|                   3|       NULL|Marondera|  31|      48905|     Sithole|   Femba|female|               Other|               4|       Mudo|null|\n",
      "|             6223|    0|           374|                   2|       1999|   Rusape|  24|       NULL|       Chipi|    Geta|female|Road Traffic Acci...|               2|     Skaboo|null|\n",
      "|             8832|    0|           729|                   3|       1978|   Rusape|  45|      34948|      Jembwa|Tichaona|female|Road Traffic Acci...|               6|  Babbleset|null|\n",
      "|             8804|    1|           716|                   2|       1992|     NULL|  31|      46984|        Foto|   Chisa|female|    Accident At Work|               1|   Flipopia|null|\n",
      "|             2445|    0|           160|                   4|       1974|   Kwekwe|  49|      37298|       Evans|   Gweta|female|               Other|               2| Brainverse|null|\n",
      "|             3715|    0|           626|                   1|       2001|   Rusape|  22|       NULL|       Chiri|   Konde|  male|Road Traffic Acci...|               4|   Photobug|null|\n",
      "|             NULL|    0|           318|                   3|       1973|   Nyanga|  50|       5071| Chisa Chisi|    NULL|  male|                NULL|            NULL|     Avamba|null|\n",
      "|             8690|    1|           715|                   2|       2002|   Harare|  21|      22943|        Geta| Sibanda|  male|               Other|               5|   Feedspan|null|\n",
      "|             6680|    0|           887|                   3|       1984| Masvingo|  39|      27104|     Sithole|   Evans|  male|    Accident At Work|               2|   Fiveclub|null|\n",
      "|              460|    0|           254|                   3|       NULL| Bulawayo|  58|       NULL|       Mirwa|   Konde|  male|    Accident At Work|               1|   Fanoodle|null|\n",
      "|              561|    0|          NULL|                   4|       1990|    Gweru|  33|      10399|       Konde|    NULL|female|                NULL|               2|  Bubblebox|null|\n",
      "|             7474|    0|           907|                   3|       1976|   Nyanga|  47|      18217|      Jembwa| Mabhena|  male|Road Traffic Acci...|            NULL|       NULL|null|\n",
      "|             5011|    0|           629|                   1|       2002|   Mutare|  21|      41518|       Evans|Peterson|female|    Accident At Work|               2|    Demimbu|null|\n",
      "|             NULL| NULL|           812|                   3|       1972|   Gwanda|  51|      39613|      Jembwa|   Konde|  male|               Other|               1|    Dynazzy|null|\n",
      "|             NULL|    0|          NULL|                NULL|       1983|Marondera|  40|      30405|    Peterson| Sithole|female|                NULL|               1|Twitterwire|null|\n",
      "|             6955|    0|           137|                   2|       1990|Marondera|  33|      42734|        Foto| Mabhena|  male|    Accident At Work|               1|   Buzzbean|null|\n",
      "|             5165|    0|           667|                   4|       1985|   Gwanda|  38|       9110|       Evans| Mabhena|female|    Accident At Work|               3|       Eayo|null|\n",
      "|             3669|    0|           449|                   4|       2002|    Gweru|  21|       6862|       Chipi|    Foto|  male|               Other|               1|      Quimm|null|\n",
      "|              813|    0|           442|                   1|       1995|Marondera|  28|      18713|       Nyoni| Sithole|  male|               Other|            NULL|     Avavee|null|\n",
      "+-----------------+-----+--------------+--------------------+-----------+---------+----+-----------+------------+--------+------+--------------------+----------------+-----------+----+\n",
      "only showing top 20 rows\n",
      "\n"
     ]
    }
   ],
   "source": [
    "df_null.show()"
   ]
  },
  {
   "cell_type": "code",
   "execution_count": 44,
   "metadata": {},
   "outputs": [],
   "source": [
    "df_null = df_null.drop('c_16')"
   ]
  },
  {
   "cell_type": "markdown",
   "metadata": {},
   "source": []
  },
  {
   "cell_type": "code",
   "execution_count": 45,
   "metadata": {},
   "outputs": [
    {
     "name": "stdout",
     "output_type": "stream",
     "text": [
      "+------------------------+------------+---------------------+---------------------------+------------------+---------------+----------+------------------+-------------------+-----------+-------------+------------+-----------------------+---------------+\n",
      "|count(membership_period)|count(label)|count(patient_suffix)|count(number_of_dependants)|count(patient_dob)|count(location)|count(Age)|count(Fee Charged)|count(patient_name)|count(name)|count(gender)|count(cause)|count(number_of_claims)|count(employer)|\n",
      "+------------------------+------------+---------------------+---------------------------+------------------+---------------+----------+------------------+-------------------+-----------+-------------+------------+-----------------------+---------------+\n",
      "|                    6311|        6310|                 6317|                       6297|              6250|           6267|      6290|              6315|               6339|       6275|         6303|        6381|                   6317|           6284|\n",
      "+------------------------+------------+---------------------+---------------------------+------------------+---------------+----------+------------------+-------------------+-----------+-------------+------------+-----------------------+---------------+\n",
      "\n"
     ]
    }
   ],
   "source": [
    "from pyspark.sql.functions import count\n",
    "null_df = df_null.select([count(i) for i in df_null.columns])\n",
    "null_df.show()"
   ]
  },
  {
   "cell_type": "code",
   "execution_count": null,
   "metadata": {},
   "outputs": [],
   "source": []
  },
  {
   "cell_type": "markdown",
   "metadata": {},
   "source": [
    "NON NULL VALUES"
   ]
  },
  {
   "cell_type": "code",
   "execution_count": 43,
   "metadata": {},
   "outputs": [
    {
     "name": "stdout",
     "output_type": "stream",
     "text": [
      "+-----------------------+-----------+--------------------+--------------------------+-----------------+--------------+---------+-----------------+------------------+----------+------------+-----------+----------------------+--------------+\n",
      "|membership_period_nulls|label_nulls|patient_suffix_nulls|number_of_dependants_nulls|patient_dob_nulls|location_nulls|Age_nulls|Fee Charged_nulls|patient_name_nulls|name_nulls|gender_nulls|cause_nulls|number_of_claims_nulls|employer_nulls|\n",
      "+-----------------------+-----------+--------------------+--------------------------+-----------------+--------------+---------+-----------------+------------------+----------+------------+-----------+----------------------+--------------+\n",
      "|                    689|        690|                 683|                       703|              750|           733|      710|              685|               661|       725|         697|        619|                   683|           716|\n",
      "+-----------------------+-----------+--------------------+--------------------------+-----------------+--------------+---------+-----------------+------------------+----------+------------+-----------+----------------------+--------------+\n",
      "\n"
     ]
    }
   ],
   "source": [
    "from pyspark.sql.functions import count, col\n",
    "\n",
    "# Count nulls by counting rows, then subtracting non-null counts\n",
    "null_df = df_null.select([(count(\"*\") - count(c)).alias(c + \"_nulls\") for c in df_null.columns])\n",
    "\n",
    "# Show the result\n",
    "null_df.show()\n"
   ]
  },
  {
   "cell_type": "markdown",
   "metadata": {},
   "source": [
    "DROP NULL VALUES"
   ]
  },
  {
   "cell_type": "code",
   "execution_count": null,
   "metadata": {},
   "outputs": [
    {
     "name": "stdout",
     "output_type": "stream",
     "text": [
      "+-----------------+-----+--------------+--------------------+-----------+---------+---+-----------+------------+--------+------+--------------------+----------------+------------+\n",
      "|membership_period|label|patient_suffix|number_of_dependants|patient_dob| location|Age|Fee Charged|patient_name|    name|gender|               cause|number_of_claims|    employer|\n",
      "+-----------------+-----+--------------+--------------------+-----------+---------+---+-----------+------------+--------+------+--------------------+----------------+------------+\n",
      "|             8832|    0|           729|                   3|       1978|   Rusape| 45|      34948|      Jembwa|Tichaona|female|Road Traffic Acci...|               6|   Babbleset|\n",
      "|             2445|    0|           160|                   4|       1974|   Kwekwe| 49|      37298|       Evans|   Gweta|female|               Other|               2|  Brainverse|\n",
      "|             8690|    1|           715|                   2|       2002|   Harare| 21|      22943|        Geta| Sibanda|  male|               Other|               5|    Feedspan|\n",
      "|             6680|    0|           887|                   3|       1984| Masvingo| 39|      27104|     Sithole|   Evans|  male|    Accident At Work|               2|    Fiveclub|\n",
      "|             5011|    0|           629|                   1|       2002|   Mutare| 21|      41518|       Evans|Peterson|female|    Accident At Work|               2|     Demimbu|\n",
      "|             6955|    0|           137|                   2|       1990|Marondera| 33|      42734|        Foto| Mabhena|  male|    Accident At Work|               1|    Buzzbean|\n",
      "|             5165|    0|           667|                   4|       1985|   Gwanda| 38|       9110|       Evans| Mabhena|female|    Accident At Work|               3|        Eayo|\n",
      "|             3669|    0|           449|                   4|       2002|    Gweru| 21|       6862|       Chipi|    Foto|  male|               Other|               1|       Quimm|\n",
      "|             3060|    0|           945|                   3|       1976|   Kadoma| 47|      11791|        Foto|  Jembwa|  male|    Accident At Work|               1|    Realcube|\n",
      "|             2154|    0|           228|                   2|       2009|   Kwekwe| 14|      39777|        Gute| Samvura|female|Road Traffic Acci...|               1|       LiveZ|\n",
      "|             2932|    0|           169|                   2|       2000| Bulawayo| 23|      29973|       Femba|   Mirwa|  male|    Accident At Work|               4|    Blogtags|\n",
      "|             7486|    0|           885|                   3|       1995|Marondera| 28|      26700|       Mirwa|   Chiri|  male|Road Traffic Acci...|               6|      JumpXS|\n",
      "|             7800|    0|           282|                   1|       1991|   Harare| 32|      16596|        Foto|    Bima|female|Road Traffic Acci...|               6|   Brightdog|\n",
      "|             7775|    0|           168|                   2|       1996|  Bindura| 27|       5345|     Samvura|    Foto|  male|    Accident At Work|               6|Chatterpoint|\n",
      "|             3176|    0|           357|                   3|       2007|   Gwanda| 16|      13909|       Chisa|   Nyoni|  male|    Accident At Work|               4|       Jamia|\n",
      "|             4588|    0|           941|                   3|       2007|   Kadoma| 16|       9084|     Sithole|   Chiri|  male|Road Traffic Acci...|               2|       Abatz|\n",
      "|             3669|    0|           912|                   1|       2001|   Rusape| 22|      49076|       Konde|    Bima|  male|Road Traffic Acci...|               3|      Eimbee|\n",
      "|             3601|    0|           684|                   3|       1989|   Nyanga| 34|      33074|      Jembwa| Mabhena|female|    Accident At Work|               2|    Linkbuzz|\n",
      "|             6332|    0|           130|                   1|       2009|   Mutare| 14|      38165|     Sithole|    Gute|  male|    Accident At Work|               3|Twitterworks|\n",
      "|              111|    0|           142|                   2|       1965|   Kwekwe| 58|      49787|       Chiri|   Chisa|female|               Other|               3|      Devify|\n",
      "+-----------------+-----+--------------+--------------------+-----------+---------+---+-----------+------------+--------+------+--------------------+----------------+------------+\n",
      "only showing top 20 rows\n",
      "\n"
     ]
    },
    {
     "data": {
      "text/plain": [
       "1617"
      ]
     },
     "execution_count": 49,
     "metadata": {},
     "output_type": "execute_result"
    }
   ],
   "source": [
    "# Remove rows with any null values in the DataFrame\n",
    "df_cleaned = df_null.na.drop()\n",
    "\n",
    "# Show the result without null values\n",
    "df_cleaned.show()\n",
    "\n",
    "df_cleaned.count()\n"
   ]
  },
  {
   "cell_type": "markdown",
   "metadata": {},
   "source": [
    "AGGREGATION PIVOT"
   ]
  },
  {
   "cell_type": "code",
   "execution_count": 56,
   "metadata": {},
   "outputs": [
    {
     "name": "stdout",
     "output_type": "stream",
     "text": [
      "+-----------------+-----+--------------+--------------------+-----------+--------+------+----+\n",
      "|membership_period|label|patient_suffix|number_of_dependants|patient_dob|location|female|male|\n",
      "+-----------------+-----+--------------+--------------------+-----------+--------+------+----+\n",
      "|             1974|    0|           149|                   3|       1984|  Harare|  NULL|   1|\n",
      "|             5713|    0|           539|                   4|       2001|Bulawayo|  NULL|   1|\n",
      "|             5674|    0|           317|                   3|       1988|   Gweru|  NULL|   1|\n",
      "|             6405|    0|           218|                   2|       1973|  Kadoma|     1|NULL|\n",
      "|             2164|    0|           420|                   2|       2004|  Gwanda|  NULL|   1|\n",
      "|             3686|    0|           625|                   4|       2003|   Gweru|  NULL|   1|\n",
      "|             5401|    0|           676|                   1|       1969| Bindura|  NULL|   1|\n",
      "|              627|    0|           874|                   4|       1984|  Gwanda|  NULL|   1|\n",
      "|             8054|    0|           819|                   3|       1988|Masvingo|     1|NULL|\n",
      "|             3575|    0|           698|                   4|       2005|  Rusape|     1|NULL|\n",
      "|             6740|    0|           834|                   2|       1986|  Harare|  NULL|   1|\n",
      "|             8910|    0|           612|                   3|       1985|  Mutare|  NULL|   1|\n",
      "|             7732|    1|           225|                   2|       1984|   Gweru|  NULL|   1|\n",
      "|             4762|    0|           316|                   1|       2008|  Harare|  NULL|   1|\n",
      "|             2249|    0|           714|                   3|       1979|  Kadoma|     1|NULL|\n",
      "|             3056|    0|           550|                   4|       1988|  Kadoma|     1|NULL|\n",
      "|             5788|    0|           227|                   2|       1995|  Gwanda|  NULL|   1|\n",
      "|              856|    0|           379|                   3|       1976|  Nyanga|     1|NULL|\n",
      "|             4890|    1|           863|                   1|       2007|  Harare|     1|NULL|\n",
      "|             3016|    0|           801|                   3|       1979| Bindura|  NULL|   1|\n",
      "+-----------------+-----+--------------+--------------------+-----------+--------+------+----+\n",
      "only showing top 20 rows\n",
      "\n"
     ]
    }
   ],
   "source": [
    "from pyspark.sql import functions as F\n",
    "\n",
    "# Group by and aggregate with min on 'employer' column after pivoting on 'cause'\n",
    "df_agg = df_cleaned.groupBy(\n",
    "    'membership_period', 'label', 'patient_suffix', 'number_of_dependants', 'patient_dob', 'location'\n",
    ").pivot('gender').agg(F.count('employer'))\n",
    "\n",
    "# Show the result\n",
    "df_agg.show()\n"
   ]
  },
  {
   "cell_type": "code",
   "execution_count": null,
   "metadata": {},
   "outputs": [],
   "source": []
  },
  {
   "cell_type": "code",
   "execution_count": null,
   "metadata": {},
   "outputs": [],
   "source": []
  },
  {
   "cell_type": "code",
   "execution_count": null,
   "metadata": {},
   "outputs": [],
   "source": []
  },
  {
   "cell_type": "code",
   "execution_count": null,
   "metadata": {},
   "outputs": [],
   "source": []
  }
 ],
 "metadata": {
  "kernelspec": {
   "display_name": "Python 3",
   "language": "python",
   "name": "python3"
  },
  "language_info": {
   "codemirror_mode": {
    "name": "ipython",
    "version": 3
   },
   "file_extension": ".py",
   "mimetype": "text/x-python",
   "name": "python",
   "nbconvert_exporter": "python",
   "pygments_lexer": "ipython3",
   "version": "3.11.9"
  }
 },
 "nbformat": 4,
 "nbformat_minor": 2
}
