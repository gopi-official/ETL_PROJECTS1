{
 "cells": [
  {
   "cell_type": "code",
   "execution_count": null,
   "metadata": {},
   "outputs": [],
   "source": []
  },
  {
   "cell_type": "code",
   "execution_count": 1,
   "metadata": {},
   "outputs": [
    {
     "name": "stdout",
     "output_type": "stream",
     "text": [
      "Requirement already satisfied: pyspark in c:\\users\\leowa\\appdata\\local\\packages\\pythonsoftwarefoundation.python.3.11_qbz5n2kfra8p0\\localcache\\local-packages\\python311\\site-packages (3.5.3)\n",
      "Requirement already satisfied: py4j==0.10.9.7 in c:\\users\\leowa\\appdata\\local\\packages\\pythonsoftwarefoundation.python.3.11_qbz5n2kfra8p0\\localcache\\local-packages\\python311\\site-packages (from pyspark) (0.10.9.7)\n",
      "Note: you may need to restart the kernel to use updated packages.\n"
     ]
    },
    {
     "name": "stderr",
     "output_type": "stream",
     "text": [
      "\n",
      "[notice] A new release of pip is available: 24.2 -> 24.3.1\n",
      "[notice] To update, run: C:\\Users\\leowa\\AppData\\Local\\Microsoft\\WindowsApps\\PythonSoftwareFoundation.Python.3.11_qbz5n2kfra8p0\\python.exe -m pip install --upgrade pip\n"
     ]
    }
   ],
   "source": [
    "pip install pyspark"
   ]
  },
  {
   "cell_type": "code",
   "execution_count": 2,
   "metadata": {},
   "outputs": [
    {
     "name": "stdout",
     "output_type": "stream",
     "text": [
      "Requirement already satisfied: pandas in c:\\users\\leowa\\appdata\\local\\packages\\pythonsoftwarefoundation.python.3.11_qbz5n2kfra8p0\\localcache\\local-packages\\python311\\site-packages (2.2.3)\n",
      "Requirement already satisfied: numpy>=1.23.2 in c:\\users\\leowa\\appdata\\local\\packages\\pythonsoftwarefoundation.python.3.11_qbz5n2kfra8p0\\localcache\\local-packages\\python311\\site-packages (from pandas) (1.26.2)\n",
      "Requirement already satisfied: python-dateutil>=2.8.2 in c:\\users\\leowa\\appdata\\local\\packages\\pythonsoftwarefoundation.python.3.11_qbz5n2kfra8p0\\localcache\\local-packages\\python311\\site-packages (from pandas) (2.8.2)\n",
      "Requirement already satisfied: pytz>=2020.1 in c:\\users\\leowa\\appdata\\local\\packages\\pythonsoftwarefoundation.python.3.11_qbz5n2kfra8p0\\localcache\\local-packages\\python311\\site-packages (from pandas) (2024.2)\n",
      "Requirement already satisfied: tzdata>=2022.7 in c:\\users\\leowa\\appdata\\local\\packages\\pythonsoftwarefoundation.python.3.11_qbz5n2kfra8p0\\localcache\\local-packages\\python311\\site-packages (from pandas) (2024.2)\n",
      "Requirement already satisfied: six>=1.5 in c:\\users\\leowa\\appdata\\local\\packages\\pythonsoftwarefoundation.python.3.11_qbz5n2kfra8p0\\localcache\\local-packages\\python311\\site-packages (from python-dateutil>=2.8.2->pandas) (1.16.0)\n",
      "Note: you may need to restart the kernel to use updated packages.\n"
     ]
    },
    {
     "name": "stderr",
     "output_type": "stream",
     "text": [
      "\n",
      "[notice] A new release of pip is available: 24.2 -> 24.3.1\n",
      "[notice] To update, run: C:\\Users\\leowa\\AppData\\Local\\Microsoft\\WindowsApps\\PythonSoftwareFoundation.Python.3.11_qbz5n2kfra8p0\\python.exe -m pip install --upgrade pip\n"
     ]
    }
   ],
   "source": [
    "pip install pandas"
   ]
  },
  {
   "cell_type": "code",
   "execution_count": 3,
   "metadata": {},
   "outputs": [],
   "source": [
    "import pandas\n",
    "import numpy\n",
    "from pyspark.sql import SparkSession"
   ]
  },
  {
   "cell_type": "code",
   "execution_count": 4,
   "metadata": {},
   "outputs": [],
   "source": [
    "spark = SparkSession.builder.appName('sql practice').getOrCreate()"
   ]
  },
  {
   "cell_type": "code",
   "execution_count": 5,
   "metadata": {},
   "outputs": [],
   "source": [
    "df = spark.read.csv(\"C:/mvi/New folder (4)/medical_aid_claims (2).csv\",header = True)"
   ]
  },
  {
   "cell_type": "code",
   "execution_count": 6,
   "metadata": {},
   "outputs": [],
   "source": [
    "df1 = spark.read.csv(\"C:/mvi/New folder (4)/best_rows.xls\",header=True)"
   ]
  },
  {
   "cell_type": "code",
   "execution_count": 7,
   "metadata": {},
   "outputs": [
    {
     "name": "stdout",
     "output_type": "stream",
     "text": [
      "+--------+--------------------+------+---------+-----------+------------+------------+--------------+-----------+---+--------------------+-----------+-----------------+----------------+--------------------+-----+----+----+----+\n",
      "|    name|               email|gender| location|   employer|relationship|patient_name|patient_suffix|patient_dob|Age|               cause|Fee Charged|membership_period|number_of_claims|number_of_dependants|label|_c16|_c17|_c18|\n",
      "+--------+--------------------+------+---------+-----------+------------+------------+--------------+-----------+---+--------------------+-----------+-----------------+----------------+--------------------+-----+----+----+----+\n",
      "|   Chipi|  ajimmison0@sun.com|female|   Kwekwe|       Vipe| Grandfather|     Mabhena|           789|       1995| 28|               Other|       3798|             1541|               2|                   4|    0|NULL|NULL|NULL|\n",
      "|   Femba|rsoonhouse1@googl...|female|Marondera|       Mudo|     Husband|     Sithole|           860|       1992| 31|               Other|      48905|             8269|               4|                   3|    0|NULL|NULL|NULL|\n",
      "|    Geta|bchecchetelli2@ho...|female|   Rusape|     Skaboo|      Mother|       Chipi|           374|       1999| 24|Road Traffic Acci...|      39963|             6223|               2|                   2|    0|NULL|NULL|NULL|\n",
      "|Tichaona|    mgarman3@psu.edu|female|   Rusape|  Babbleset|      Father|      Jembwa|           729|       1978| 45|Road Traffic Acci...|      34948|             8832|               6|                   3|    0|NULL|NULL|NULL|\n",
      "|   Chisa|ccough4@biglobe.n...|female| Bulawayo|   Flipopia|      Father|        Foto|           716|       1992| 31|    Accident At Work|      46984|             8804|               1|                   2|    1|NULL|NULL|NULL|\n",
      "|   Gweta| mhylden5@sfgate.com|female|   Kwekwe| Brainverse|    Daughter|       Evans|           160|       1974| 49|               Other|      37298|             2445|               2|                   4|    0|NULL|NULL|NULL|\n",
      "|   Konde|    mlent6@patch.com|  male|   Rusape|   Photobug|      Nepfew|       Chiri|           626|       2001| 22|Road Traffic Acci...|      33981|             3715|               4|                   1|    0|NULL|NULL|NULL|\n",
      "|   Gweta| mpicford7@apple.com|  male|   Nyanga|     Avamba|     Brother| Chisa Chisi|           318|       1973| 50|               Other|       5071|              541|               1|                   3|    0|NULL|NULL|NULL|\n",
      "| Sibanda|   thappert8@psu.edu|  male|   Harare|   Feedspan|       Niece|        Geta|           715|       2002| 21|               Other|      22943|             8690|               5|                   2|    1|NULL|NULL|NULL|\n",
      "|   Evans|erainbow9@pintere...|  male| Masvingo|   Fiveclub|      Mother|     Sithole|           887|       1984| 39|    Accident At Work|      27104|             6680|               2|                   3|    0|NULL|NULL|NULL|\n",
      "|   Konde|  fcasonea@house.gov|  male| Bulawayo|   Fanoodle|     Brother|       Mirwa|           254|       1965| 58|    Accident At Work|      21842|              460|               1|                   3|    0|NULL|NULL|NULL|\n",
      "|Tichaona|cwaddilowb@livein...|female|    Gweru|  Bubblebox|        Wife|       Konde|           446|       1990| 33|    Accident At Work|      10399|              561|               2|                   4|    0|NULL|NULL|NULL|\n",
      "| Mabhena|tmarnanec@pcworld...|  male|   Nyanga|Twitterbeat|      Sister|      Jembwa|           907|       1976| 47|Road Traffic Acci...|      18217|             7474|               1|                   3|    0|NULL|NULL|NULL|\n",
      "|Peterson|mogglebied@consta...|female|   Mutare|    Demimbu|       Niece|       Evans|           629|       2002| 21|    Accident At Work|      41518|             5011|               2|                   1|    0|NULL|NULL|NULL|\n",
      "|   Konde|hmerrissone@natio...|  male|   Gwanda|    Dynazzy|      Sister|      Jembwa|           812|       1972| 51|               Other|      39613|             1110|               1|                   3|    1|NULL|NULL|NULL|\n",
      "| Sithole|rreemanf@timesonl...|female|Marondera|Twitterwire|       Uncle|    Peterson|           820|       1983| 40|    Accident At Work|      30405|             7535|               1|                   2|    0|NULL|NULL|NULL|\n",
      "| Mabhena| agrinstedg@jugem.jp|  male|Marondera|   Buzzbean| Grandmother|        Foto|           137|       1990| 33|    Accident At Work|      42734|             6955|               1|                   2|    0|NULL|NULL|NULL|\n",
      "| Mabhena|lcollingwoodh@par...|female|   Gwanda|       Eayo|      Father|       Evans|           667|       1985| 38|    Accident At Work|       9110|             5165|               3|                   4|    0|NULL|NULL|NULL|\n",
      "|    Foto|     hmorsei@icio.us|  male|    Gweru|      Quimm|        Wife|       Chipi|           449|       2002| 21|               Other|       6862|             3669|               1|                   4|    0|NULL|NULL|NULL|\n",
      "| Sithole|   msoanj@seesaa.net|  male|Marondera|     Avavee| Grandfather|       Nyoni|           442|       1995| 28|               Other|      18713|              813|               2|                   1|    0|NULL|NULL|NULL|\n",
      "+--------+--------------------+------+---------+-----------+------------+------------+--------------+-----------+---+--------------------+-----------+-----------------+----------------+--------------------+-----+----+----+----+\n",
      "only showing top 20 rows\n",
      "\n"
     ]
    }
   ],
   "source": [
    "df.show()"
   ]
  },
  {
   "cell_type": "markdown",
   "metadata": {},
   "source": [
    "PYSPARK SQL"
   ]
  },
  {
   "cell_type": "code",
   "execution_count": 8,
   "metadata": {},
   "outputs": [],
   "source": [
    "# Create a temporary view for SQL queries\n",
    "df.createOrReplaceTempView('df_sql')\n",
    "df1.createOrReplaceTempView('df_sql1')"
   ]
  },
  {
   "cell_type": "code",
   "execution_count": null,
   "metadata": {},
   "outputs": [],
   "source": []
  },
  {
   "cell_type": "code",
   "execution_count": 9,
   "metadata": {},
   "outputs": [
    {
     "name": "stdout",
     "output_type": "stream",
     "text": [
      "+--------+\n",
      "|    name|\n",
      "+--------+\n",
      "|   Chipi|\n",
      "|   Femba|\n",
      "|    Geta|\n",
      "|Tichaona|\n",
      "|   Chisa|\n",
      "|   Gweta|\n",
      "|   Konde|\n",
      "|   Gweta|\n",
      "| Sibanda|\n",
      "|   Evans|\n",
      "|   Konde|\n",
      "|Tichaona|\n",
      "| Mabhena|\n",
      "|Peterson|\n",
      "|   Konde|\n",
      "| Sithole|\n",
      "| Mabhena|\n",
      "| Mabhena|\n",
      "|    Foto|\n",
      "| Sithole|\n",
      "+--------+\n",
      "only showing top 20 rows\n",
      "\n"
     ]
    }
   ],
   "source": [
    "result = spark.sql(\"select name from df_sql\")\n",
    "result.show()"
   ]
  },
  {
   "cell_type": "code",
   "execution_count": 10,
   "metadata": {},
   "outputs": [
    {
     "name": "stdout",
     "output_type": "stream",
     "text": [
      "+-----------+--------------------+\n",
      "|       name|               email|\n",
      "+-----------+--------------------+\n",
      "|      Gweta|rtwinn68@marriott...|\n",
      "|       Gute|dethelstona7@miit...|\n",
      "|      Mirwa|rbleeshl@barnesan...|\n",
      "|       Geta|  brobarts4h@cnn.com|\n",
      "|       Foto|  djaslem5h@phoca.cz|\n",
      "|       Gute|ddesremedios8r@go...|\n",
      "|       Foto|nfuscoio@linkedin...|\n",
      "|      Nyoni|    iotuohyqu@a8.net|\n",
      "|Chisa Chisi|smcgeechanro@cens...|\n",
      "|      Nyoni|jberndt8u@people....|\n",
      "|       Gute|jkuhnelb6@surveym...|\n",
      "|      Nyoni|jcarderd2@hubpage...|\n",
      "|       Bima|sboobiereg@google...|\n",
      "|    Mabhena|bmcgreiln9@skyroc...|\n",
      "|       Moyo|  amaynell1j@umn.edu|\n",
      "|      Mirwa|           online.de|\n",
      "|      Evans|  dhuggonsob@epa.gov|\n",
      "|    Sithole|bcotilard7u@photo...|\n",
      "|       Gute|       atry20@w3.org|\n",
      "|      Chipi|    sgurnay4x@qq.com|\n",
      "+-----------+--------------------+\n",
      "only showing top 20 rows\n",
      "\n"
     ]
    }
   ],
   "source": [
    "result = spark.sql(\"select distinct name,email  from df_sql \")\n",
    "result.show()"
   ]
  },
  {
   "cell_type": "code",
   "execution_count": 11,
   "metadata": {},
   "outputs": [
    {
     "name": "stdout",
     "output_type": "stream",
     "text": [
      "+--------+--------------------+------+---------+------------+------------+------------+--------------+-----------+---+--------------------+-----------+-----------------+----------------+--------------------+-----+----+----+----+\n",
      "|    name|               email|gender| location|    employer|relationship|patient_name|patient_suffix|patient_dob|Age|               cause|Fee Charged|membership_period|number_of_claims|number_of_dependants|label|_c16|_c17|_c18|\n",
      "+--------+--------------------+------+---------+------------+------------+------------+--------------+-----------+---+--------------------+-----------+-----------------+----------------+--------------------+-----+----+----+----+\n",
      "|    Geta|bchecchetelli2@ho...|female|   Rusape|      Skaboo|      Mother|       Chipi|           374|       1999| 24|Road Traffic Acci...|      39963|             6223|               2|                   2|    0|NULL|NULL|NULL|\n",
      "|   Evans|erainbow9@pintere...|  male| Masvingo|    Fiveclub|      Mother|     Sithole|           887|       1984| 39|    Accident At Work|      27104|             6680|               2|                   3|    0|NULL|NULL|NULL|\n",
      "|    Moyo|mheathfield1t@hao...|female|  Bindura|        Yodo|      Mother|     Samvura|           925|       1978| 45|Road Traffic Acci...|      33214|             4357|               3|                   1|    0|NULL|NULL|NULL|\n",
      "|   Mirwa|  ssalvati2k@ask.com|female|   Mutare|        Muxo|      Mother|       Evans|           446|       1977| 46|               Other|      12807|             2364|               2|                   1|    1|NULL|NULL|NULL|\n",
      "|    Bima|   sjardine2t@pen.io|  male| Bulawayo|        Eire|      Mother| Chisa Chisi|           805|       1986| 37|               Other|      39629|             3532|               6|                   4|    0|NULL|NULL|NULL|\n",
      "| Sithole|vdarlasson45@bigc...|female|    Gweru|    Flashset|      Mother|     Sibanda|           977|       1969| 54|    Accident At Home|      36041|             8851|               5|                   2|    0|NULL|NULL|NULL|\n",
      "|   Chisa| mhalm4g@comcast.net|female|   Mutare|     Edgetag|      Mother|       Konde|           119|       1971| 52|    Accident At Home|      28875|             4825|               3|                   4|    0|NULL|NULL|NULL|\n",
      "|   Gweta|chull4o@opensourc...|  male|   Kadoma|  Flashpoint|      Mother|     Sithole|           812|       2003| 20|Road Traffic Acci...|      20629|              796|               1|                   3|    0|NULL|NULL|NULL|\n",
      "|    Geta|aestick4q@oracle.com|  male|   Rusape|       Fadeo|      Mother|       Chiri|           947|       1981| 42|               Other|      29502|              435|               2|                   2|    0|NULL|NULL|NULL|\n",
      "| Mabhena|rchomicz4s@blogsp...|female|   Rusape|    Riffwire|      Mother|       Chiri|           406|       1977| 46|               Other|      10713|             8121|               4|                   3|    0|NULL|NULL|NULL|\n",
      "|   Konde|zgrange5l@simplem...|  male|   Harare|  Babbleopia|      Mother|       Chipi|           778|       1981| 42|    Accident At Home|      44060|              805|               4|                   1|    1|NULL|NULL|NULL|\n",
      "| Sibanda|    ereyna5z@icq.com|female|   Rusape|  Flashpoint|      Mother|     Sithole|           457|       1969| 54|               Other|      25150|             6835|               1|                   3|    0|NULL|NULL|NULL|\n",
      "| Mabhena|ipristnor64@myspa...|female|   Kwekwe|Dazzlesphere|      Mother|     Mabhena|           683|       1985| 38|    Accident At Work|       9451|             3933|               3|                   4|    0|NULL|NULL|NULL|\n",
      "|   Evans|clefriec67@thegua...|  male| Bulawayo|     Skalith|      Mother|        Gute|           196|       1986| 37|    Accident At Work|      40246|             5073|               1|                   4|    0|NULL|NULL|NULL|\n",
      "|   Gweta|rtwinn68@marriott...|  male|   Harare|      Skimia|      Mother|       Femba|           599|       1999| 24|               Other|      45198|             4449|               1|                   1|    0|NULL|NULL|NULL|\n",
      "|    Bima|ajansie7d@accuwea...|  male|Marondera|  Zoomlounge|      Mother|        Geta|           664|       1982| 41|    Accident At Home|      26779|             1125|               1|                   1|    0|NULL|NULL|NULL|\n",
      "|   Nyoni|dbartocci7j@mapqu...|  male|   Kadoma|    Fivespan|      Mother|        Foto|           220|       1970| 53|               Other|      26913|             4772|               5|                   3|    0|NULL|NULL|NULL|\n",
      "|    Moyo|vmacsween7r@ucoz.com|  male|  Bindura|     Realmix|      Mother|       Chiri|           337|       1996| 27|    Accident At Work|      11671|              216|               2|                   2|    0|NULL|NULL|NULL|\n",
      "|Tichaona|cbroadstock85@hos...|female|   Kwekwe|      Voolia|      Mother|       Nyoni|           180|       1970| 53|    Accident At Work|      22621|             6701|               4|                   2|    0|NULL|NULL|NULL|\n",
      "| Sithole|mashton8f@taobao.com|female|   Rusape|Twitterworks|      Mother|        Gura|           106|       1994| 29|               Other|        979|             5798|               3|                   4|    1|NULL|NULL|NULL|\n",
      "+--------+--------------------+------+---------+------------+------------+------------+--------------+-----------+---+--------------------+-----------+-----------------+----------------+--------------------+-----+----+----+----+\n",
      "only showing top 20 rows\n",
      "\n"
     ]
    }
   ],
   "source": [
    "result = spark.sql(\"select * from df_sql where relationship ='Mother'\")\n",
    "result.show()"
   ]
  },
  {
   "cell_type": "code",
   "execution_count": 12,
   "metadata": {},
   "outputs": [
    {
     "name": "stdout",
     "output_type": "stream",
     "text": [
      "+----+--------------------+------+---------+-----------+------------+------------+--------------+-----------+---+--------------------+-----------+-----------------+----------------+--------------------+-----+----+----+----+\n",
      "|name|               email|gender| location|   employer|relationship|patient_name|patient_suffix|patient_dob|Age|               cause|Fee Charged|membership_period|number_of_claims|number_of_dependants|label|_c16|_c17|_c18|\n",
      "+----+--------------------+------+---------+-----------+------------+------------+--------------+-----------+---+--------------------+-----------+-----------------+----------------+--------------------+-----+----+----+----+\n",
      "|Geta|bchecchetelli2@ho...|female|   Rusape|     Skaboo|      Mother|       Chipi|           374|       1999| 24|Road Traffic Acci...|      39963|             6223|               2|                   2|    0|NULL|NULL|NULL|\n",
      "|Moyo|    irobecont@go.com|  male|  Bindura|    Edgeify|      Father|       Femba|           985|       2006| 17|               Other|       7718|             3123|               4|                   3|    0|NULL|NULL|NULL|\n",
      "|Moyo|mheathfield1t@hao...|female|  Bindura|       Yodo|      Mother|     Samvura|           925|       1978| 45|Road Traffic Acci...|      33214|             4357|               3|                   1|    0|NULL|NULL|NULL|\n",
      "|Geta|cosheerin2a@sbwir...|  male|   Kwekwe| Babbleblab| Grandmother|      Jembwa|           164|       1994| 29|    Accident At Work|      34993|             8872|               2|                   3|    0|NULL|NULL|NULL|\n",
      "|Moyo|kemanulsson38@noa...|female|   Rusape|      Yadel|       Niece|        Geta|           223|       2007| 16|    Accident At Work|      36401|             7890|               5|                   4|    1|NULL|NULL|NULL|\n",
      "|Moyo|karchbald3m@devia...|  male|   Mutare|      Kwinu|      Sister|       Evans|           799|       1989| 34|    Accident At Home|      17215|             3638|               5|                   3|    1|NULL|NULL|NULL|\n",
      "|Geta|bfoyster3n@smugmu...|female|   Harare|       Fatz|     Husband|      Jembwa|           703|       1997| 26|    Accident At Work|      14386|             8390|               4|                   3|    0|NULL|NULL|NULL|\n",
      "|Geta|aestick4q@oracle.com|  male|   Rusape|      Fadeo|      Mother|       Chiri|           947|       1981| 42|               Other|      29502|              435|               2|                   2|    0|NULL|NULL|NULL|\n",
      "|Moyo|vrosengren5b@hao1...|female|    Gweru|    Demivee|     Brother|       Femba|           235|       1977| 46|    Accident At Work|       6271|             8222|               1|                   2|    0|NULL|NULL|NULL|\n",
      "|Geta|cgiorgioni5f@hexu...|female|Marondera|    Buzzdog|        Wife|        Moyo|           580|       2000| 23|Road Traffic Acci...|      49461|             5915|               6|                   2|    1|NULL|NULL|NULL|\n",
      "|Geta|sgumery5k@theguar...|  male|   Kwekwe|  Linklinks| Grandmother|     Mabhena|           112|       1968| 55|    Accident At Home|      28762|             3252|               5|                   4|    1|NULL|NULL|NULL|\n",
      "|Geta|   spape60@umich.edu|female| Bulawayo|     Trilia| Grandmother|       Gweta|           632|       1977| 46|Road Traffic Acci...|      18220|              153|               2|                   3|    0|NULL|NULL|NULL|\n",
      "|Geta| abracher6b@sohu.com|  male|   Gwanda|      Quatz|      Sister|        Foto|           157|       2002| 21|Road Traffic Acci...|      12758|             6308|               1|                   1|    0|NULL|NULL|NULL|\n",
      "|Moyo|lhardwidge6d@reve...|  male|   Kwekwe|  Zoonoodle|     Husband|       Gweta|           774|       1996| 27|    Accident At Work|      47561|             3174|               3|                   4|    0|NULL|NULL|NULL|\n",
      "|Moyo|         webster.com|female|   Kadoma|Brainlounge|    Daughter|     Sibanda|           817|       1972| 51|    Accident At Home|      21813|             2197|               4|                   3|    1|NULL|NULL|NULL|\n",
      "|Geta|fempleton6w@chron...|female|   Rusape|     Kwideo|      Nepfew|       Evans|           210|       1998| 25|    Accident At Work|       8970|             8347|               1|                   4|    1|NULL|NULL|NULL|\n",
      "|Geta|nwhetnall6x@netwo...|female|Marondera|      Mynte|    Daughter|        Moyo|           744|       1998| 25|               Other|      46942|             5178|               3|                   2|    0|NULL|NULL|NULL|\n",
      "|Geta|llightbody73@miit...|female| Bulawayo|    Zoomdog|        Aunt|     Samvura|           562|       1967| 56|    Accident At Home|      14781|             7627|               5|                   3|    0|NULL|NULL|NULL|\n",
      "|Moyo|nscutts79@weebly.com|  male| Masvingo|    Gabtune|       Niece|       Evans|           723|       1980| 43|    Accident At Work|      11616|             7066|               6|                   2|    0|NULL|NULL|NULL|\n",
      "|Moyo|vmacsween7r@ucoz.com|  male|  Bindura|    Realmix|      Mother|       Chiri|           337|       1996| 27|    Accident At Work|      11671|              216|               2|                   2|    0|NULL|NULL|NULL|\n",
      "+----+--------------------+------+---------+-----------+------------+------------+--------------+-----------+---+--------------------+-----------+-----------------+----------------+--------------------+-----+----+----+----+\n",
      "only showing top 20 rows\n",
      "\n"
     ]
    }
   ],
   "source": [
    "result = spark.sql(\"SELECT * from df_sql where name  in ('Moyo','Geta')\")\n",
    "result.show()"
   ]
  },
  {
   "cell_type": "code",
   "execution_count": 13,
   "metadata": {},
   "outputs": [
    {
     "name": "stdout",
     "output_type": "stream",
     "text": [
      "+-------+--------------------+------+---------+-----------+------------+------------+--------------+-----------+---+--------------------+-----------+-----------------+----------------+--------------------+-----+----+----+----+\n",
      "|   name|               email|gender| location|   employer|relationship|patient_name|patient_suffix|patient_dob|Age|               cause|Fee Charged|membership_period|number_of_claims|number_of_dependants|label|_c16|_c17|_c18|\n",
      "+-------+--------------------+------+---------+-----------+------------+------------+--------------+-----------+---+--------------------+-----------+-----------------+----------------+--------------------+-----+----+----+----+\n",
      "|  Femba|rsoonhouse1@googl...|female|Marondera|       Mudo|     Husband|     Sithole|           860|       1992| 31|               Other|      48905|             8269|               4|                   3|    0|NULL|NULL|NULL|\n",
      "|   Geta|bchecchetelli2@ho...|female|   Rusape|     Skaboo|      Mother|       Chipi|           374|       1999| 24|Road Traffic Acci...|      39963|             6223|               2|                   2|    0|NULL|NULL|NULL|\n",
      "|  Evans|erainbow9@pintere...|  male| Masvingo|   Fiveclub|      Mother|     Sithole|           887|       1984| 39|    Accident At Work|      27104|             6680|               2|                   3|    0|NULL|NULL|NULL|\n",
      "| Jembwa|     khauchl@ask.com|  male|   Kadoma|   Realcube|     Husband|        Foto|           945|       1976| 47|    Accident At Work|      11791|             3060|               1|                   3|    0|NULL|NULL|NULL|\n",
      "|  Chiri|nbutchersx@creati...|female|   Gwanda|      Yadel|     Husband|     Sithole|           572|       1996| 27|    Accident At Home|      33425|             9000|               4|                   2|    0|NULL|NULL|NULL|\n",
      "|  Dihwa|blindholm17@baidu...|female|   Gwanda| Photospace|     Husband|       Mirwa|           921|       1970| 53|Road Traffic Acci...|      34590|              931|               5|                   4|    0|NULL|NULL|NULL|\n",
      "|  Chisa|kkid18@tuttocitta.it|  male|    Gweru|      Tazzy|     Husband|    Tichaona|           320|       1972| 51|    Accident At Home|      43690|             3518|               4|                   3|    0|NULL|NULL|NULL|\n",
      "|Mabhena|nwakely1e@network...|female|   Nyanga|   Linkbuzz|     Husband|      Jembwa|           684|       1989| 34|    Accident At Work|      33074|             3601|               2|                   3|    0|NULL|NULL|NULL|\n",
      "|   Moyo|mheathfield1t@hao...|female|  Bindura|       Yodo|      Mother|     Samvura|           925|       1978| 45|Road Traffic Acci...|      33214|             4357|               3|                   1|    0|NULL|NULL|NULL|\n",
      "|   Gura|ncorradeschi28@od...|female|   Rusape|    Dabfeed|     Husband|       Chiri|           222|       1999| 24|Road Traffic Acci...|       2363|             4605|               3|                   4|    1|NULL|NULL|NULL|\n",
      "|  Mirwa|  ssalvati2k@ask.com|female|   Mutare|       Muxo|      Mother|       Evans|           446|       1977| 46|               Other|      12807|             2364|               2|                   1|    1|NULL|NULL|NULL|\n",
      "|   Bima|   sjardine2t@pen.io|  male| Bulawayo|       Eire|      Mother| Chisa Chisi|           805|       1986| 37|               Other|      39629|             3532|               6|                   4|    0|NULL|NULL|NULL|\n",
      "|   Foto|   shazell2x@psu.edu|female|   Kadoma|      Oyoyo|     Husband|    Peterson|           347|       1981| 42|    Accident At Home|      36150|             7851|               1|                   1|    0|NULL|NULL|NULL|\n",
      "|   Moyo|kemanulsson38@noa...|female|   Rusape|      Yadel|       Niece|        Geta|           223|       2007| 16|    Accident At Work|      36401|             7890|               5|                   4|    1|NULL|NULL|NULL|\n",
      "|   Bima|tbartolomeu3k@com...|female|  Bindura|  Topicblab|     Husband|    Peterson|           306|       1985| 38|Road Traffic Acci...|      13772|             8117|               5|                   4|    0|NULL|NULL|NULL|\n",
      "|   Geta|bfoyster3n@smugmu...|female|   Harare|       Fatz|     Husband|      Jembwa|           703|       1997| 26|    Accident At Work|      14386|             8390|               4|                   3|    0|NULL|NULL|NULL|\n",
      "|Sithole|vdarlasson45@bigc...|female|    Gweru|   Flashset|      Mother|     Sibanda|           977|       1969| 54|    Accident At Home|      36041|             8851|               5|                   2|    0|NULL|NULL|NULL|\n",
      "|  Chisa| mhalm4g@comcast.net|female|   Mutare|    Edgetag|      Mother|       Konde|           119|       1971| 52|    Accident At Home|      28875|             4825|               3|                   4|    0|NULL|NULL|NULL|\n",
      "|  Dihwa| pkernocke4i@msu.edu|female|   Mutare|    Voolith|     Husband|    Peterson|           304|       2001| 22|    Accident At Work|      28888|             8153|               6|                   4|    0|NULL|NULL|NULL|\n",
      "|  Konde|mgenery4m@creativ...|female|   Nyanga|Thoughtbeat|     Husband|       Evans|           255|       1965| 58|               Other|      14998|             4029|               3|                   1|    0|NULL|NULL|NULL|\n",
      "+-------+--------------------+------+---------+-----------+------------+------------+--------------+-----------+---+--------------------+-----------+-----------------+----------------+--------------------+-----+----+----+----+\n",
      "only showing top 20 rows\n",
      "\n"
     ]
    }
   ],
   "source": [
    "result = spark.sql(\"select * from df_sql where name in ('Moyo','Geta') and location='Rusape' or relationship in('Mother','Husband')\")\n",
    "result.show()"
   ]
  },
  {
   "cell_type": "code",
   "execution_count": 14,
   "metadata": {},
   "outputs": [
    {
     "name": "stdout",
     "output_type": "stream",
     "text": [
      "+--------------------+\n",
      "|               email|\n",
      "+--------------------+\n",
      "| zwewell18@europa.eu|\n",
      "|zwayman3o@sfgate.com|\n",
      "|ztrevallion5b@cne...|\n",
      "|  ztanmanlh@dmoz.org|\n",
      "|zsweatmanbn@foxne...|\n",
      "|zstithekz@chicago...|\n",
      "|zspaightky@wiley.com|\n",
      "|zscoggan5e@hugedo...|\n",
      "|zschimankn3@white...|\n",
      "| zsaill@examiner.com|\n",
      "|zruslendj@ustream.tv|\n",
      "| zromkeil@uol.com.br|\n",
      "|  zpittford9o@pen.io|\n",
      "|zpettus6q@behance...|\n",
      "|zpemberton9l@ihg.com|\n",
      "|zmontes9h@mozilla...|\n",
      "|zmarkwellah@googl...|\n",
      "| zmaggiorik9@aol.com|\n",
      "|zkubasiewiczg4@to...|\n",
      "|zkrebsiu@nbcnews.com|\n",
      "+--------------------+\n",
      "only showing top 20 rows\n",
      "\n"
     ]
    }
   ],
   "source": [
    "result = spark.sql(\"select email from df_sql order by email desc\")\n",
    "result.show()"
   ]
  },
  {
   "cell_type": "code",
   "execution_count": 15,
   "metadata": {},
   "outputs": [
    {
     "name": "stdout",
     "output_type": "stream",
     "text": [
      "+--------------------+\n",
      "|               email|\n",
      "+--------------------+\n",
      "|  ajimmison0@sun.com|\n",
      "| agrinstedg@jugem.jp|\n",
      "|amacdermottn@wisc...|\n",
      "|aoakleyz@quantcas...|\n",
      "|avalerio12@harvar...|\n",
      "|agoolden1a@trelli...|\n",
      "|astrahan1s@wiley.com|\n",
      "|  aimason1u@1688.com|\n",
      "|afrayling2y@4shar...|\n",
      "|aperfili3t@bbc.co.uk|\n",
      "|aestick4q@oracle.com|\n",
      "|ahalbert4v@thegua...|\n",
      "|ablabie53@ezinear...|\n",
      "|acarslake59@chica...|\n",
      "|awillwood5r@zdnet...|\n",
      "|awetherald63@home.pl|\n",
      "| abracher6b@sohu.com|\n",
      "|akondratenko6c@nb...|\n",
      "|   askip6g@intel.com|\n",
      "|astrutt6n@cdbaby.com|\n",
      "+--------------------+\n",
      "only showing top 20 rows\n",
      "\n"
     ]
    }
   ],
   "source": [
    "result = spark.sql(\"select email from df_sql where email like 'a%' \")\n",
    "result.show()"
   ]
  },
  {
   "cell_type": "code",
   "execution_count": 16,
   "metadata": {},
   "outputs": [
    {
     "name": "stdout",
     "output_type": "stream",
     "text": [
      "+-----------+\n",
      "|       name|\n",
      "+-----------+\n",
      "|      Chipi|\n",
      "|      Nyoni|\n",
      "|Chisa Chisi|\n",
      "|      Chiri|\n",
      "|      Chiri|\n",
      "|Chisa Chisi|\n",
      "|      Nyoni|\n",
      "|      Chiri|\n",
      "|      Chiri|\n",
      "|      Chiri|\n",
      "|      Chipi|\n",
      "|      Chiri|\n",
      "|      Chipi|\n",
      "|      Chiri|\n",
      "|Chisa Chisi|\n",
      "|      Chiri|\n",
      "|      Chipi|\n",
      "|      Nyoni|\n",
      "|Chisa Chisi|\n",
      "|Chisa Chisi|\n",
      "+-----------+\n",
      "only showing top 20 rows\n",
      "\n"
     ]
    }
   ],
   "source": [
    "result = spark.sql(\"select name from df_sql where name like '%i'\")\n",
    "result.show()"
   ]
  },
  {
   "cell_type": "code",
   "execution_count": 17,
   "metadata": {},
   "outputs": [
    {
     "name": "stdout",
     "output_type": "stream",
     "text": [
      "+----------------+\n",
      "|sum(Fee Charged)|\n",
      "+----------------+\n",
      "|      1.782485E8|\n",
      "+----------------+\n",
      "\n"
     ]
    }
   ],
   "source": [
    "result = spark.sql(\"select SUM(`Fee Charged`) from df_sql\")\n",
    "result.show()"
   ]
  },
  {
   "cell_type": "code",
   "execution_count": 18,
   "metadata": {},
   "outputs": [
    {
     "name": "stdout",
     "output_type": "stream",
     "text": [
      "+-----------------+\n",
      "|         avg(age)|\n",
      "+-----------------+\n",
      "|35.94457142857143|\n",
      "+-----------------+\n",
      "\n"
     ]
    }
   ],
   "source": [
    "result = spark.sql(\"select avg(`age`) from df_sql\")\n",
    "result.show()"
   ]
  },
  {
   "cell_type": "code",
   "execution_count": 19,
   "metadata": {},
   "outputs": [
    {
     "name": "stdout",
     "output_type": "stream",
     "text": [
      "+----------------+\n",
      "|sum(Fee Charged)|\n",
      "+----------------+\n",
      "|      1.782485E8|\n",
      "+----------------+\n",
      "\n"
     ]
    }
   ],
   "source": [
    "result = spark.sql(\"SELECT SUM(`Fee Charged`) FROM df_sql\")\n",
    "result.show()\n"
   ]
  },
  {
   "cell_type": "markdown",
   "metadata": {},
   "source": [
    "JOINS"
   ]
  },
  {
   "cell_type": "code",
   "execution_count": null,
   "metadata": {},
   "outputs": [],
   "source": []
  },
  {
   "cell_type": "code",
   "execution_count": null,
   "metadata": {},
   "outputs": [],
   "source": []
  },
  {
   "cell_type": "code",
   "execution_count": 21,
   "metadata": {},
   "outputs": [
    {
     "name": "stdout",
     "output_type": "stream",
     "text": [
      "+-----+-----------------+------------------+\n",
      "|label|total_fee_charged|   avg_fee_charged|\n",
      "+-----+-----------------+------------------+\n",
      "|    0|     1.42660771E8|25379.962818003914|\n",
      "|    1|      3.5587729E7| 25806.91007976795|\n",
      "+-----+-----------------+------------------+\n",
      "\n"
     ]
    }
   ],
   "source": [
    "from pyspark.sql import functions as F\n",
    "\n",
    "# Group by 'label' and aggregate 'Fee Charged' using sum and average\n",
    "aggregated_df = df.groupBy(\"label\").agg(\n",
    "    F.sum(\"Fee Charged\").alias(\"total_fee_charged\"),\n",
    "    F.avg(\"Fee Charged\").alias(\"avg_fee_charged\")\n",
    ")\n",
    "\n",
    "# Show the result\n",
    "aggregated_df.show()\n"
   ]
  },
  {
   "cell_type": "code",
   "execution_count": null,
   "metadata": {},
   "outputs": [],
   "source": []
  },
  {
   "cell_type": "code",
   "execution_count": null,
   "metadata": {},
   "outputs": [],
   "source": []
  },
  {
   "cell_type": "code",
   "execution_count": null,
   "metadata": {},
   "outputs": [],
   "source": []
  },
  {
   "cell_type": "code",
   "execution_count": null,
   "metadata": {},
   "outputs": [],
   "source": []
  },
  {
   "cell_type": "code",
   "execution_count": null,
   "metadata": {},
   "outputs": [],
   "source": []
  },
  {
   "cell_type": "code",
   "execution_count": null,
   "metadata": {},
   "outputs": [],
   "source": []
  },
  {
   "cell_type": "code",
   "execution_count": null,
   "metadata": {},
   "outputs": [],
   "source": []
  },
  {
   "cell_type": "code",
   "execution_count": null,
   "metadata": {},
   "outputs": [],
   "source": []
  }
 ],
 "metadata": {
  "kernelspec": {
   "display_name": "Python 3",
   "language": "python",
   "name": "python3"
  },
  "language_info": {
   "codemirror_mode": {
    "name": "ipython",
    "version": 3
   },
   "file_extension": ".py",
   "mimetype": "text/x-python",
   "name": "python",
   "nbconvert_exporter": "python",
   "pygments_lexer": "ipython3",
   "version": "3.11.9"
  }
 },
 "nbformat": 4,
 "nbformat_minor": 2
}
