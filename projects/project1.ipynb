{
 "cells": [
  {
   "cell_type": "code",
   "execution_count": 1,
   "metadata": {},
   "outputs": [
    {
     "name": "stdout",
     "output_type": "stream",
     "text": [
      "Requirement already satisfied: pandas in c:\\users\\leowa\\appdata\\local\\packages\\pythonsoftwarefoundation.python.3.11_qbz5n2kfra8p0\\localcache\\local-packages\\python311\\site-packages (2.2.3)\n",
      "Requirement already satisfied: numpy>=1.23.2 in c:\\users\\leowa\\appdata\\local\\packages\\pythonsoftwarefoundation.python.3.11_qbz5n2kfra8p0\\localcache\\local-packages\\python311\\site-packages (from pandas) (1.26.2)\n",
      "Requirement already satisfied: python-dateutil>=2.8.2 in c:\\users\\leowa\\appdata\\local\\packages\\pythonsoftwarefoundation.python.3.11_qbz5n2kfra8p0\\localcache\\local-packages\\python311\\site-packages (from pandas) (2.8.2)\n",
      "Requirement already satisfied: pytz>=2020.1 in c:\\users\\leowa\\appdata\\local\\packages\\pythonsoftwarefoundation.python.3.11_qbz5n2kfra8p0\\localcache\\local-packages\\python311\\site-packages (from pandas) (2024.2)\n",
      "Requirement already satisfied: tzdata>=2022.7 in c:\\users\\leowa\\appdata\\local\\packages\\pythonsoftwarefoundation.python.3.11_qbz5n2kfra8p0\\localcache\\local-packages\\python311\\site-packages (from pandas) (2024.2)\n",
      "Requirement already satisfied: six>=1.5 in c:\\users\\leowa\\appdata\\local\\packages\\pythonsoftwarefoundation.python.3.11_qbz5n2kfra8p0\\localcache\\local-packages\\python311\\site-packages (from python-dateutil>=2.8.2->pandas) (1.16.0)\n",
      "Note: you may need to restart the kernel to use updated packages.\n"
     ]
    },
    {
     "name": "stderr",
     "output_type": "stream",
     "text": [
      "\n",
      "[notice] A new release of pip is available: 24.2 -> 24.3.1\n",
      "[notice] To update, run: C:\\Users\\leowa\\AppData\\Local\\Microsoft\\WindowsApps\\PythonSoftwareFoundation.Python.3.11_qbz5n2kfra8p0\\python.exe -m pip install --upgrade pip\n"
     ]
    }
   ],
   "source": [
    "pip install pandas"
   ]
  },
  {
   "cell_type": "code",
   "execution_count": 2,
   "metadata": {},
   "outputs": [
    {
     "name": "stdout",
     "output_type": "stream",
     "text": [
      "Requirement already satisfied: pyspark in c:\\users\\leowa\\appdata\\local\\packages\\pythonsoftwarefoundation.python.3.11_qbz5n2kfra8p0\\localcache\\local-packages\\python311\\site-packages (3.5.3)\n",
      "Requirement already satisfied: py4j==0.10.9.7 in c:\\users\\leowa\\appdata\\local\\packages\\pythonsoftwarefoundation.python.3.11_qbz5n2kfra8p0\\localcache\\local-packages\\python311\\site-packages (from pyspark) (0.10.9.7)\n",
      "Note: you may need to restart the kernel to use updated packages.\n"
     ]
    },
    {
     "name": "stderr",
     "output_type": "stream",
     "text": [
      "\n",
      "[notice] A new release of pip is available: 24.2 -> 24.3.1\n",
      "[notice] To update, run: C:\\Users\\leowa\\AppData\\Local\\Microsoft\\WindowsApps\\PythonSoftwareFoundation.Python.3.11_qbz5n2kfra8p0\\python.exe -m pip install --upgrade pip\n"
     ]
    }
   ],
   "source": [
    "pip install pyspark"
   ]
  },
  {
   "cell_type": "code",
   "execution_count": 3,
   "metadata": {},
   "outputs": [],
   "source": [
    "import pandas\n",
    "import numpy\n",
    "import pyspark"
   ]
  },
  {
   "cell_type": "code",
   "execution_count": 4,
   "metadata": {},
   "outputs": [],
   "source": [
    "from pyspark.sql import SparkSession"
   ]
  },
  {
   "cell_type": "code",
   "execution_count": 5,
   "metadata": {},
   "outputs": [
    {
     "data": {
      "text/plain": [
       "<module 'pyspark' from 'C:\\\\Users\\\\leowa\\\\AppData\\\\Local\\\\Packages\\\\PythonSoftwareFoundation.Python.3.11_qbz5n2kfra8p0\\\\LocalCache\\\\local-packages\\\\Python311\\\\site-packages\\\\pyspark\\\\__init__.py'>"
      ]
     },
     "execution_count": 5,
     "metadata": {},
     "output_type": "execute_result"
    }
   ],
   "source": [
    "pyspark"
   ]
  },
  {
   "cell_type": "code",
   "execution_count": 6,
   "metadata": {},
   "outputs": [],
   "source": [
    "spark = SparkSession.builder \\\n",
    "    .appName(\"DataUploadExample\") \\\n",
    "    .getOrCreate()"
   ]
  },
  {
   "cell_type": "code",
   "execution_count": null,
   "metadata": {},
   "outputs": [],
   "source": [
    "dataset_path = \"C:/mvi/New folder (4)/C__Users_Aleny_OneDrive_Desktop_Cyclistic Analysis.csv\""
   ]
  },
  {
   "cell_type": "code",
   "execution_count": 11,
   "metadata": {},
   "outputs": [],
   "source": [
    "df = spark.read.csv(dataset_path, header=True, inferSchema=True)"
   ]
  },
  {
   "cell_type": "code",
   "execution_count": null,
   "metadata": {},
   "outputs": [
    {
     "data": {
      "text/plain": [
       "DataFrame[ride_id: string, started_at: date, ended_at: date, rideable_type: string, start_station_id: int, start_station_name: string, end_station_id: int, end_station_name: string, member_casual: string, ride_length: int, date: date, month: int, day: int, year: int, day_of_week: string]"
      ]
     },
     "execution_count": 13,
     "metadata": {},
     "output_type": "execute_result"
    },
    {
     "ename": "",
     "evalue": "",
     "output_type": "error",
     "traceback": [
      "\u001b[1;31mThe Kernel crashed while executing code in the current cell or a previous cell. \n",
      "\u001b[1;31mPlease review the code in the cell(s) to identify a possible cause of the failure. \n",
      "\u001b[1;31mClick <a href='https://aka.ms/vscodeJupyterKernelCrash'>here</a> for more info. \n",
      "\u001b[1;31mView Jupyter <a href='command:jupyter.viewOutput'>log</a> for further details."
     ]
    }
   ],
   "source": [
    "df"
   ]
  },
  {
   "cell_type": "code",
   "execution_count": 12,
   "metadata": {},
   "outputs": [
    {
     "name": "stdout",
     "output_type": "stream",
     "text": [
      "+--------+----------+----------+-------------+----------------+--------------------+--------------+--------------------+-------------+-----------+----------+-----+---+----+-----------+\n",
      "| ride_id|started_at|  ended_at|rideable_type|start_station_id|  start_station_name|end_station_id|    end_station_name|member_casual|ride_length|      date|month|day|year|day_of_week|\n",
      "+--------+----------+----------+-------------+----------------+--------------------+--------------+--------------------+-------------+-----------+----------+-----+---+----+-----------+\n",
      "|21742443|2019-01-01|2019-01-01|         2167|             199|Wabash Ave & Gran...|            84|Milwaukee Ave & G...|       member|        420|2019-01-01|    1|  1|2019|    Tuesday|\n",
      "|21742444|2019-01-01|2019-01-01|         4386|              44|State St & Randol...|           624|Dearborn St & Van...|       member|        420|2019-01-01|    1|  1|2019|    Tuesday|\n",
      "|21742445|2019-01-01|2019-01-01|         1524|              15|Racine Ave & 18th St|           644|Western Ave & Fil...|       member|        840|2019-01-01|    1|  1|2019|    Tuesday|\n",
      "|21742446|2019-01-01|2019-01-01|          252|             123|California Ave & ...|           176|   Clark St & Elm St|       member|       1800|2019-01-01|    1|  1|2019|    Tuesday|\n",
      "|21742447|2019-01-01|2019-01-01|         1170|             173|Mies van der Rohe...|            35|Streeter Dr & Gra...|       member|        360|2019-01-01|    1|  1|2019|    Tuesday|\n",
      "|21742448|2019-01-01|2019-01-01|         2437|              98|LaSalle St & Wash...|            49|Dearborn St & Mon...|       member|        240|2019-01-01|    1|  1|2019|    Tuesday|\n",
      "|21742449|2019-01-01|2019-01-01|         2708|              98|LaSalle St & Wash...|            49|Dearborn St & Mon...|       member|        180|2019-01-01|    1|  1|2019|    Tuesday|\n",
      "|21742450|2019-01-01|2019-01-01|         2796|             211|St. Clair St & Er...|           142|McClurg Ct & Erie St|       member|        120|2019-01-01|    1|  1|2019|    Tuesday|\n",
      "|21742451|2019-01-01|2019-01-01|         6205|             150|Fort Dearborn Dr ...|           148|  State St & 33rd St|       member|       1740|2019-01-01|    1|  1|2019|    Tuesday|\n",
      "|21742452|2019-01-01|2019-01-01|         3939|             268|Lake Shore Dr & N...|           141|Clark St & Lincol...|       member|        300|2019-01-01|    1|  1|2019|    Tuesday|\n",
      "|21742453|2019-01-01|2019-01-01|         6243|             299|Halsted St & Rosc...|           295|Broadway & Argyle St|       member|        900|2019-01-01|    1|  1|2019|    Tuesday|\n",
      "|21742454|2019-01-01|2019-01-01|         6300|             204|Prairie Ave & Gar...|           420| Ellis Ave & 55th St|       member|        660|2019-01-01|    1|  1|2019|    Tuesday|\n",
      "|21742455|2019-01-01|2019-01-01|         3029|              90|     Millennium Park|           255|Indiana Ave & Roo...|       member|        600|2019-01-01|    1|  1|2019|    Tuesday|\n",
      "|21742456|2019-01-01|2019-01-01|           84|              90|     Millennium Park|           255|Indiana Ave & Roo...|       casual|        600|2019-01-01|    1|  1|2019|    Tuesday|\n",
      "|21742457|2019-01-01|2019-01-01|         5019|             289|Wells St & Concor...|           324|Stockton Dr & Wri...|       member|        960|2019-01-01|    1|  1|2019|    Tuesday|\n",
      "|21742458|2019-01-01|2019-01-01|         5526|             289|Wells St & Concor...|           324|Stockton Dr & Wri...|       member|        900|2019-01-01|    1|  1|2019|    Tuesday|\n",
      "|21742459|2019-01-01|2019-01-01|         3373|             152|Lincoln Ave & Div...|           166|Ashland Ave & Wri...|       member|        420|2019-01-01|    1|  1|2019|    Tuesday|\n",
      "|21742460|2019-01-01|2019-01-01|         5777|             268|Lake Shore Dr & N...|           319|Greenview Ave & D...|       casual|       1380|2019-01-01|    1|  1|2019|    Tuesday|\n",
      "|21742461|2019-01-01|2019-01-01|         3940|              35|Streeter Dr & Gra...|            35|Streeter Dr & Gra...|       member|        120|2019-01-01|    1|  1|2019|    Tuesday|\n",
      "|21742463|2019-01-01|2019-01-01|         3914|              35|Streeter Dr & Gra...|            39|Wabash Ave & Adam...|       casual|       2340|2019-01-01|    1|  1|2019|    Tuesday|\n",
      "+--------+----------+----------+-------------+----------------+--------------------+--------------+--------------------+-------------+-----------+----------+-----+---+----+-----------+\n",
      "only showing top 20 rows\n",
      "\n"
     ]
    }
   ],
   "source": [
    "df.show()\n"
   ]
  },
  {
   "cell_type": "markdown",
   "metadata": {},
   "source": [
    "EDA"
   ]
  },
  {
   "cell_type": "code",
   "execution_count": 12,
   "metadata": {},
   "outputs": [
    {
     "name": "stdout",
     "output_type": "stream",
     "text": [
      "+--------+----------+----------+-------------+----------------+--------------------+--------------+--------------------+-------------+-----------+----------+-----+---+----+-----------+\n",
      "| ride_id|started_at|  ended_at|rideable_type|start_station_id|  start_station_name|end_station_id|    end_station_name|member_casual|ride_length|      date|month|day|year|day_of_week|\n",
      "+--------+----------+----------+-------------+----------------+--------------------+--------------+--------------------+-------------+-----------+----------+-----+---+----+-----------+\n",
      "|21742443|2019-01-01|2019-01-01|         2167|             199|Wabash Ave & Gran...|            84|Milwaukee Ave & G...|       member|        420|2019-01-01|    1|  1|2019|    Tuesday|\n",
      "|21742444|2019-01-01|2019-01-01|         4386|              44|State St & Randol...|           624|Dearborn St & Van...|       member|        420|2019-01-01|    1|  1|2019|    Tuesday|\n",
      "|21742445|2019-01-01|2019-01-01|         1524|              15|Racine Ave & 18th St|           644|Western Ave & Fil...|       member|        840|2019-01-01|    1|  1|2019|    Tuesday|\n",
      "|21742446|2019-01-01|2019-01-01|          252|             123|California Ave & ...|           176|   Clark St & Elm St|       member|       1800|2019-01-01|    1|  1|2019|    Tuesday|\n",
      "|21742447|2019-01-01|2019-01-01|         1170|             173|Mies van der Rohe...|            35|Streeter Dr & Gra...|       member|        360|2019-01-01|    1|  1|2019|    Tuesday|\n",
      "+--------+----------+----------+-------------+----------------+--------------------+--------------+--------------------+-------------+-----------+----------+-----+---+----+-----------+\n",
      "only showing top 5 rows\n",
      "\n"
     ]
    }
   ],
   "source": [
    "df.show(5) #(or) df.take(5)"
   ]
  },
  {
   "cell_type": "code",
   "execution_count": 13,
   "metadata": {},
   "outputs": [
    {
     "data": {
      "text/plain": [
       "[Row(ride_id='005D3BC2A3B33DDA', started_at=datetime.date(2020, 3, 12), ended_at=datetime.date(2020, 3, 12), rideable_type='docked_bike', start_station_id=91, start_station_name='Clinton St & Washington Blvd', end_station_id=47, end_station_name='State St & Kinzie St', member_casual='member', ride_length=360, date=datetime.date(2020, 3, 12), month=3, day=12, year=2020, day_of_week='Thursday'),\n",
       " Row(ride_id='82B10FA3994BC66A', started_at=datetime.date(2020, 3, 7), ended_at=datetime.date(2020, 3, 7), rideable_type='docked_bike', start_station_id=161, start_station_name='Rush St & Superior St', end_station_id=240, end_station_name='Sheridan Rd & Irving Park Rd', member_casual='member', ride_length=2940, date=datetime.date(2020, 3, 7), month=3, day=7, year=2020, day_of_week='Saturday'),\n",
       " Row(ride_id='AA0D5AAA0B59C8AA', started_at=datetime.date(2020, 3, 1), ended_at=datetime.date(2020, 3, 1), rideable_type='docked_bike', start_station_id=141, start_station_name='Clark St & Lincoln Ave', end_station_id=210, end_station_name='Ashland Ave & Division St', member_casual='casual', ride_length=1560, date=datetime.date(2020, 3, 1), month=3, day=1, year=2020, day_of_week='Sunday'),\n",
       " Row(ride_id='3296360A7BC20FB8', started_at=datetime.date(2020, 3, 7), ended_at=datetime.date(2020, 3, 7), rideable_type='docked_bike', start_station_id=672, start_station_name='Franklin St & Illinois St', end_station_id=264, end_station_name='Stetson Ave & South Water St', member_casual='member', ride_length=660, date=datetime.date(2020, 3, 7), month=3, day=7, year=2020, day_of_week='Saturday'),\n",
       " Row(ride_id='064EC7698E4FF9B3', started_at=datetime.date(2020, 3, 8), ended_at=datetime.date(2020, 3, 8), rideable_type='docked_bike', start_station_id=110, start_station_name='Dearborn St & Erie St', end_station_id=85, end_station_name='Michigan Ave & Oak St', member_casual='casual', ride_length=1740, date=datetime.date(2020, 3, 8), month=3, day=8, year=2020, day_of_week='Sunday')]"
      ]
     },
     "execution_count": 13,
     "metadata": {},
     "output_type": "execute_result"
    }
   ],
   "source": [
    "df.collect()[-5:]"
   ]
  },
  {
   "cell_type": "code",
   "execution_count": 14,
   "metadata": {},
   "outputs": [
    {
     "name": "stdout",
     "output_type": "stream",
     "text": [
      "+-------+----------------+------------------+------------------+--------------------+-----------------+--------------------+-------------+------------------+------------------+------------------+-------------------+-----------+\n",
      "|summary|         ride_id|     rideable_type|  start_station_id|  start_station_name|   end_station_id|    end_station_name|member_casual|       ride_length|             month|               day|               year|day_of_week|\n",
      "+-------+----------------+------------------+------------------+--------------------+-----------------+--------------------+-------------+------------------+------------------+------------------+-------------------+-----------+\n",
      "|  count|          788189|            788189|            788189|              788189|           788189|              788189|       788189|            788189|            788189|            788189|             788189|     788189|\n",
      "|   mean|        Infinity| 3429.484607019495|202.15115156390155|                NULL|202.1307135725061|                NULL|         NULL|1189.4372035133706|2.0744275801869856|14.756392185123111|  2019.536825558337|       NULL|\n",
      "| stddev|             NaN|1923.3210248377454|155.92462254104603|                NULL|156.3392730307847|                NULL|         NULL| 33291.89758396427|0.8342889611478453| 8.628450422728255|0.49864235050384464|       NULL|\n",
      "|    min|000054ABAD1C067C|                 1|                 2| 2112 W Peterson Ave|                2| 2112 W Peterson Ave|       casual|                 0|                 1|                 1|               2019|     Friday|\n",
      "|    max|FFFFED71E01CE28F|       docked_bike|               673|Yates Blvd & 75th St|              675|Yates Blvd & 75th St|       member|          10632000|                 3|                31|               2020|  Wednesday|\n",
      "+-------+----------------+------------------+------------------+--------------------+-----------------+--------------------+-------------+------------------+------------------+------------------+-------------------+-----------+\n",
      "\n"
     ]
    }
   ],
   "source": [
    "df.describe().show()"
   ]
  },
  {
   "cell_type": "code",
   "execution_count": 15,
   "metadata": {},
   "outputs": [
    {
     "name": "stdout",
     "output_type": "stream",
     "text": [
      "root\n",
      " |-- ride_id: string (nullable = true)\n",
      " |-- started_at: date (nullable = true)\n",
      " |-- ended_at: date (nullable = true)\n",
      " |-- rideable_type: string (nullable = true)\n",
      " |-- start_station_id: integer (nullable = true)\n",
      " |-- start_station_name: string (nullable = true)\n",
      " |-- end_station_id: integer (nullable = true)\n",
      " |-- end_station_name: string (nullable = true)\n",
      " |-- member_casual: string (nullable = true)\n",
      " |-- ride_length: integer (nullable = true)\n",
      " |-- date: date (nullable = true)\n",
      " |-- month: integer (nullable = true)\n",
      " |-- day: integer (nullable = true)\n",
      " |-- year: integer (nullable = true)\n",
      " |-- day_of_week: string (nullable = true)\n",
      "\n"
     ]
    }
   ],
   "source": [
    "df.printSchema() #INFO"
   ]
  },
  {
   "cell_type": "code",
   "execution_count": 16,
   "metadata": {},
   "outputs": [],
   "source": [
    "row = df.count()  "
   ]
  },
  {
   "cell_type": "code",
   "execution_count": 17,
   "metadata": {},
   "outputs": [
    {
     "data": {
      "text/plain": [
       "788189"
      ]
     },
     "execution_count": 17,
     "metadata": {},
     "output_type": "execute_result"
    }
   ],
   "source": [
    "row"
   ]
  },
  {
   "cell_type": "code",
   "execution_count": 18,
   "metadata": {},
   "outputs": [],
   "source": [
    "columns=len(df.columns)"
   ]
  },
  {
   "cell_type": "code",
   "execution_count": 19,
   "metadata": {},
   "outputs": [
    {
     "data": {
      "text/plain": [
       "15"
      ]
     },
     "execution_count": 19,
     "metadata": {},
     "output_type": "execute_result"
    }
   ],
   "source": [
    "columns"
   ]
  },
  {
   "cell_type": "code",
   "execution_count": 20,
   "metadata": {},
   "outputs": [
    {
     "data": {
      "text/plain": [
       "['ride_id',\n",
       " 'started_at',\n",
       " 'ended_at',\n",
       " 'rideable_type',\n",
       " 'start_station_id',\n",
       " 'start_station_name',\n",
       " 'end_station_id',\n",
       " 'end_station_name',\n",
       " 'member_casual',\n",
       " 'ride_length',\n",
       " 'date',\n",
       " 'month',\n",
       " 'day',\n",
       " 'year',\n",
       " 'day_of_week']"
      ]
     },
     "execution_count": 20,
     "metadata": {},
     "output_type": "execute_result"
    }
   ],
   "source": [
    "df.columns"
   ]
  },
  {
   "cell_type": "code",
   "execution_count": 21,
   "metadata": {},
   "outputs": [],
   "source": [
    "from pyspark.sql.functions import col\n"
   ]
  },
  {
   "cell_type": "code",
   "execution_count": 23,
   "metadata": {},
   "outputs": [
    {
     "data": {
      "text/plain": [
       "DataFrame[ride_id: boolean, started_at: boolean, ended_at: boolean, rideable_type: boolean, start_station_id: boolean, start_station_name: boolean, end_station_id: boolean, end_station_name: boolean, member_casual: boolean, ride_length: boolean, date: boolean, month: boolean, day: boolean, year: boolean, day_of_week: boolean]"
      ]
     },
     "execution_count": 23,
     "metadata": {},
     "output_type": "execute_result"
    }
   ],
   "source": [
    "from pyspark.sql.functions import col\n",
    "null_df = df.select([col(c).isNull().alias(c) for c in df.columns])\n",
    "null_df"
   ]
  },
  {
   "cell_type": "code",
   "execution_count": null,
   "metadata": {},
   "outputs": [],
   "source": []
  },
  {
   "cell_type": "code",
   "execution_count": null,
   "metadata": {},
   "outputs": [],
   "source": []
  },
  {
   "cell_type": "code",
   "execution_count": null,
   "metadata": {},
   "outputs": [],
   "source": []
  },
  {
   "cell_type": "code",
   "execution_count": null,
   "metadata": {},
   "outputs": [],
   "source": []
  }
 ],
 "metadata": {
  "kernelspec": {
   "display_name": "Python 3",
   "language": "python",
   "name": "python3"
  },
  "language_info": {
   "codemirror_mode": {
    "name": "ipython",
    "version": 3
   },
   "file_extension": ".py",
   "mimetype": "text/x-python",
   "name": "python",
   "nbconvert_exporter": "python",
   "pygments_lexer": "ipython3",
   "version": "3.11.9"
  }
 },
 "nbformat": 4,
 "nbformat_minor": 2
}
